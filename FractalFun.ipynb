{
 "cells": [
  {
   "cell_type": "code",
   "execution_count": 1,
   "metadata": {
    "colab": {
     "autoexec": {
      "startup": false,
      "wait_interval": 0
     }
    },
    "colab_type": "code",
    "id": "8JIJZGBemqsK"
   },
   "outputs": [
    {
     "name": "stderr",
     "output_type": "stream",
     "text": [
      "/Library/Frameworks/Python.framework/Versions/3.6/lib/python3.6/site-packages/h5py/__init__.py:36: FutureWarning: Conversion of the second argument of issubdtype from `float` to `np.floating` is deprecated. In future, it will be treated as `np.float64 == np.dtype(float).type`.\n",
      "  from ._conv import register_converters as _register_converters\n",
      "Using TensorFlow backend.\n"
     ]
    }
   ],
   "source": [
    "import numpy as np\n",
    "from numba import vectorize, complex64, boolean, jit\n",
    "from PIL import Image\n",
    "import tensorflow as tf\n",
    "import os, sys, itertools, time\n",
    "\n",
    "import keras\n",
    "import itertools\n",
    "\n",
    "from keras.layers         import Dense\n",
    "from keras.layers         import Dropout\n",
    "from keras.models         import Model\n",
    "from keras.models         import Sequential\n",
    "from keras.utils.np_utils import to_categorical\n",
    "\n",
    "import matplotlib.pyplot as plt\n",
    "from matplotlib import colors\n",
    "%matplotlib inline"
   ]
  },
  {
   "cell_type": "code",
   "execution_count": 13,
   "metadata": {
    "colab": {
     "autoexec": {
      "startup": false,
      "wait_interval": 0
     }
    },
    "colab_type": "code",
    "id": "sy3gw_iHqmDs"
   },
   "outputs": [],
   "source": [
    "@jit\n",
    "def f(z, c):   #iterating function\n",
    "    return z * z + c\n",
    "@jit\n",
    "def does_diverge(z, c, iters):  #checks if a given pixel diverges\n",
    "#     iters = 3\n",
    "    for _ in range(iters):\n",
    "        z = f(z, c)\n",
    "        if abs(z) > 2: # Diverges\n",
    "            return 1\n",
    "    return 0\n",
    "def generate_julia_set(size, c=False, iterations=50):\n",
    "    x = np.linspace(-2, 2, size * 3)\n",
    "    y = np.linspace(-1, 1, size * 2)\n",
    "    X = np.array(list(itertools.product(y, x)))[:, (1, 0)]\n",
    "    if not c:\n",
    "        output = np.array([does_diverge(sample[0]+1j*sample[1], sample[0]+1j*sample[1], iterations) for sample in X])\n",
    "    else:\n",
    "        output = np.array([does_diverge(sample[0]+1j*sample[1], c, iterations) for sample in X])\n",
    "    return X, output.reshape((size * 2, size * 3)) #image format"
   ]
  },
  {
   "cell_type": "code",
   "execution_count": 14,
   "metadata": {
    "colab": {
     "autoexec": {
      "startup": false,
      "wait_interval": 0
     }
    },
    "colab_type": "code",
    "id": "E21uJet0x3Eq"
   },
   "outputs": [],
   "source": [
    "max_iter = 50 # 50 is standard"
   ]
  },
  {
   "cell_type": "code",
   "execution_count": 20,
   "metadata": {
    "colab": {
     "autoexec": {
      "startup": false,
      "wait_interval": 0
     },
     "base_uri": "https://localhost:8080/",
     "height": 286
    },
    "colab_type": "code",
    "executionInfo": {
     "elapsed": 12114,
     "status": "ok",
     "timestamp": 1524362026086,
     "user": {
      "displayName": "Gefen Kohavi",
      "photoUrl": "//lh6.googleusercontent.com/-aDP7VJ0GEzc/AAAAAAAAAAI/AAAAAAAAAFI/fPC73X3-gOU/s50-c-k-no/photo.jpg",
      "userId": "105186591481700008201"
     },
     "user_tz": 420
    },
    "id": "2aAYukBj6BBQ",
    "outputId": "e6de453c-68e2-4b43-abd8-fe17356282f2"
   },
   "outputs": [
    {
     "data": {
      "image/png": "[encoded data removed]",
      "text/plain": [
       "<matplotlib.figure.Figure at 0x122787c88>"
      ]
     },
     "metadata": {},
     "output_type": "display_data"
    },
    {
     "name": "stdout",
     "output_type": "stream",
     "text": [
      "0.5094058513641357\n"
     ]
    }
   ],
   "source": [
    "@jit\n",
    "def plot_fractal(c, iterations=50):\n",
    "    start = time.time()\n",
    "    X, res = generate_julia_set(128, c=c, iterations=iterations)\n",
    "    plt.figure()\n",
    "    ax = plt.imshow(res, cmap = 'gray')\n",
    "    ax = plt.gca()\n",
    "    ax.grid(linewidth=0)\n",
    "    plt.show()\n",
    "    end = time.time()\n",
    "    save_array(\"res\", res)\n",
    "    print(end-start)\n",
    "    return X, res\n",
    "@jit\n",
    "def plot_fractal_exculdeblack(c): #sometimes the fractals are all black,, exclude this\n",
    "    start = time.time()\n",
    "    X, res = generate_julia_set(128, c=c)\n",
    "    if (np.mean(res)>.99):    #this image is all black\n",
    "        return False\n",
    "    return res\n",
    "X, res = plot_fractal(-.8, 9)"
   ]
  },
  {
   "cell_type": "code",
   "execution_count": 19,
   "metadata": {
    "colab": {
     "autoexec": {
      "startup": false,
      "wait_interval": 0
     }
    },
    "colab_type": "code",
    "id": "ldxdAY1A6Tlk"
   },
   "outputs": [],
   "source": [
    "@jit\n",
    "def save_img(matrix, X, c, filename=\"default.txt\"): # Takes in a 2d numpy array, np array of [x, y] pairs, c value\n",
    "    file = open(filename, 'w')\n",
    "    matrix = matrix.flatten()    #flatten 2d array of divergence values\n",
    "    file.write(str(c)+'\\n')\n",
    "    file.write(\"X <-Float, Y <-Float, Diverges <-Boolean\\n\")\n",
    "    for div, xy in zip(matrix, X):\n",
    "        file.write(str(xy[0]) +\" \"+ str(xy[1]) +\" \"+ str(div) +\" \"+ \"\\n\")\n",
    "    file.close()\n",
    "@jit\n",
    "def load_img(filename): # Takes in a filename and returns a [x, y] range and a 2d array of divergence values\n",
    "    file = open(filename, 'r')\n",
    "    text = file.read()\n",
    "    print(c)\n",
    "    file.close()\n",
    "@jit\n",
    "def save_ctoimg_txt(clist, filelist, txtfile): #Saves a list of c and image file name mappings\n",
    "    file = open(txtfile, 'w')\n",
    "    for c, filename in zip(clist, filelist):\n",
    "        line = filename +\" \"+ str(c[0])+\" \"+str(c[1])+\"i\"+\"\\n\"\n",
    "        file.write(line)\n",
    "    file.close()"
   ]
  },
  {
   "cell_type": "code",
   "execution_count": 5,
   "metadata": {},
   "outputs": [],
   "source": [
    "@jit\n",
    "def save_array(filename, array): # don't add a filename so it saves as .npy as default\n",
    "    np.save(filename, array)\n",
    "@jit\n",
    "def load_array(filename):\n",
    "    return np.load(filename)"
   ]
  },
  {
   "cell_type": "code",
   "execution_count": 6,
   "metadata": {},
   "outputs": [
    {
     "data": {
      "text/plain": [
       "<matplotlib.image.AxesImage at 0x12223df98>"
      ]
     },
     "execution_count": 6,
     "metadata": {},
     "output_type": "execute_result"
    },
    {
     "data": {
      "image/png": "[encoded data removed]",
      "text/plain": [
       "<matplotlib.figure.Figure at 0x121fe2860>"
      ]
     },
     "metadata": {},
     "output_type": "display_data"
    }
   ],
   "source": [
    "arr = load_array('res.npy')\n",
    "plt.figure()\n",
    "plt.imshow(arr)"
   ]
  },
  {
   "cell_type": "code",
   "execution_count": 8,
   "metadata": {},
   "outputs": [],
   "source": [
    "@jit\n",
    "def generate_dataset(num_samples, fileindex, npyfilename, txtfilename):\n",
    "    xy = []\n",
    "    for i in range(num_samples):\n",
    "        randr = np.random.uniform(-2, 2)\n",
    "        randi = np.random.uniform(-1, 1)\n",
    "        xy.append([randr, randi])\n",
    "    rrange = range(len(xy))\n",
    "    xy = np.array(xy)\n",
    "    count = fileindex\n",
    "    clist = []\n",
    "    filelist = []\n",
    "    for i in xy:\n",
    "        c = i[0]+1j*i[1]   #construct complex value\n",
    "        output = plot_fractal_exculdeblack(i[0]+1j*i[1])\n",
    "        if type(output) != bool:    #res is returned\n",
    "            clist.append(i)\n",
    "            filename = npyfilename+str(count)\n",
    "            filelist.append(filename)\n",
    "            save_array(filename, output)\n",
    "            count += 1\n",
    "    save_ctoimg_txt(clist, filelist, txtfile=txtfilename)"
   ]
  },
  {
   "cell_type": "code",
   "execution_count": 72,
   "metadata": {},
   "outputs": [
    {
     "ename": "FileNotFoundError",
     "evalue": "[Errno 2] No such file or directory: 'data/julia0.npy'",
     "output_type": "error",
     "traceback": [
      "\u001b[0;31m---------------------------------------------------------------------------\u001b[0m",
      "\u001b[0;31mFileNotFoundError\u001b[0m                         Traceback (most recent call last)",
      "\u001b[0;32m<ipython-input-72-af97116b45cb>\u001b[0m in \u001b[0;36m<module>\u001b[0;34m()\u001b[0m\n\u001b[0;32m----> 1\u001b[0;31m \u001b[0mgenerate_dataset\u001b[0m\u001b[0;34m(\u001b[0m\u001b[0;36m10000\u001b[0m\u001b[0;34m,\u001b[0m \u001b[0;36m0\u001b[0m\u001b[0;34m,\u001b[0m \u001b[0;34m\"data/julia\"\u001b[0m\u001b[0;34m,\u001b[0m \u001b[0;34m\"data/meta/cvalues.txt\"\u001b[0m\u001b[0;34m)\u001b[0m\u001b[0;34m\u001b[0m\u001b[0m\n\u001b[0m",
      "\u001b[0;32m/Library/Frameworks/Python.framework/Versions/3.6/lib/python3.6/site-packages/numpy/lib/npyio.py\u001b[0m in \u001b[0;36msave\u001b[0;34m(file, arr, allow_pickle, fix_imports)\u001b[0m\n\u001b[1;32m    490\u001b[0m         \u001b[0;32mif\u001b[0m \u001b[0;32mnot\u001b[0m \u001b[0mfile\u001b[0m\u001b[0;34m.\u001b[0m\u001b[0mendswith\u001b[0m\u001b[0;34m(\u001b[0m\u001b[0;34m'.npy'\u001b[0m\u001b[0;34m)\u001b[0m\u001b[0;34m:\u001b[0m\u001b[0;34m\u001b[0m\u001b[0m\n\u001b[1;32m    491\u001b[0m             \u001b[0mfile\u001b[0m \u001b[0;34m=\u001b[0m \u001b[0mfile\u001b[0m \u001b[0;34m+\u001b[0m \u001b[0;34m'.npy'\u001b[0m\u001b[0;34m\u001b[0m\u001b[0m\n\u001b[0;32m--> 492\u001b[0;31m         \u001b[0mfid\u001b[0m \u001b[0;34m=\u001b[0m \u001b[0mopen\u001b[0m\u001b[0;34m(\u001b[0m\u001b[0mfile\u001b[0m\u001b[0;34m,\u001b[0m \u001b[0;34m\"wb\"\u001b[0m\u001b[0;34m)\u001b[0m\u001b[0;34m\u001b[0m\u001b[0m\n\u001b[0m\u001b[1;32m    493\u001b[0m         \u001b[0mown_fid\u001b[0m \u001b[0;34m=\u001b[0m \u001b[0;32mTrue\u001b[0m\u001b[0;34m\u001b[0m\u001b[0m\n\u001b[1;32m    494\u001b[0m     \u001b[0;32melif\u001b[0m \u001b[0mis_pathlib_path\u001b[0m\u001b[0;34m(\u001b[0m\u001b[0mfile\u001b[0m\u001b[0;34m)\u001b[0m\u001b[0;34m:\u001b[0m\u001b[0;34m\u001b[0m\u001b[0m\n",
      "\u001b[0;31mFileNotFoundError\u001b[0m: [Errno 2] No such file or directory: 'data/julia0.npy'"
     ]
    }
   ],
   "source": [
    "generate_dataset(10000, 0, \"data/julia\", \"data/meta/cvalues.txt\")"
   ]
  },
  {
   "cell_type": "code",
   "execution_count": 233,
   "metadata": {},
   "outputs": [
    {
     "data": {
      "text/plain": [
       "<matplotlib.figure.Figure at 0x15739c668>"
      ]
     },
     "metadata": {},
     "output_type": "display_data"
    },
    {
     "data": {
      "image/png": "[encoded data removed]",
      "text/plain": [
       "<matplotlib.figure.Figure at 0x15f70bcc0>"
      ]
     },
     "metadata": {},
     "output_type": "display_data"
    },
    {
     "data": {
      "image/png": "[encoded data removed]",
      "text/plain": [
       "<matplotlib.figure.Figure at 0x15f980908>"
      ]
     },
     "metadata": {},
     "output_type": "display_data"
    }
   ],
   "source": [
    "for i in range(48,49):\n",
    "    plt.figure()\n",
    "    aa = load_array(\"data/julia\"+str(i)+\".npy\")\n",
    "    factor = 0.18\n",
    "    a = subSample(aa, factor, True)"
   ]
  },
  {
   "cell_type": "raw",
   "metadata": {},
   "source": [
    "# Courtesy of 189 hw4 solutions\n",
    "@jit\n",
    "def assemble_feature(X, D):\n",
    "    xs = []\n",
    "    for d0 in range(D + 1):\n",
    "        for d1 in range(D - d0 + 1):\n",
    "            xs.append((X[:, 0]**d0)*(X[:, 1]**d1))\n",
    "    return np.column_stack(xs)"
   ]
  },
  {
   "cell_type": "code",
   "execution_count": 69,
   "metadata": {},
   "outputs": [
    {
     "data": {
      "image/png": "[encoded data removed]",
      "text/plain": [
       "<matplotlib.figure.Figure at 0x1274b3e48>"
      ]
     },
     "metadata": {},
     "output_type": "display_data"
    },
    {
     "data": {
      "image/png": "[encoded data removed]",
      "text/plain": [
       "<matplotlib.figure.Figure at 0x1256869b0>"
      ]
     },
     "metadata": {},
     "output_type": "display_data"
    }
   ],
   "source": [
    "### Simple Regression ###\n",
    "b = np.ndarray.flatten(res)\n",
    "plt.figure(figsize=(10,10))\n",
    "plt.imshow(res, cmap=\"gray\")\n",
    "plt.figure(figsize=(10,10))\n",
    "for i in range(1, 21):\n",
    "    A = X\n",
    "    A = np.hstack([assemble_feature(A, i)])\n",
    "#     print(A)\n",
    "    w = np.linalg.inv(A.T.dot(A)).dot(A.T).dot(b)\n",
    "#     print(w)x\n",
    "    \n",
    "    img = np.reshape(A.dot(w), (128*2, 128*3))\n",
    "    img[img < .5] = 0\n",
    "    img[img >=.5] = 1\n",
    "    \n",
    "    plt.subplot(6,4,i)\n",
    "    plt.imshow(img, cmap=\"gray\")"
   ]
  },
  {
   "cell_type": "code",
   "execution_count": 223,
   "metadata": {},
   "outputs": [
    {
     "name": "stdout",
     "output_type": "stream",
     "text": [
      "Epoch 1/30\n",
      " - 5s - loss: 0.1377\n",
      "Epoch 2/30\n",
      " - 4s - loss: 0.0707\n",
      "Epoch 3/30\n",
      " - 3s - loss: 0.0615\n",
      "Epoch 4/30\n",
      " - 4s - loss: 0.0559\n",
      "Epoch 5/30\n",
      " - 4s - loss: 0.0532\n",
      "Epoch 6/30\n",
      " - 3s - loss: 0.0521\n",
      "Epoch 7/30\n",
      " - 3s - loss: 0.0500\n",
      "Epoch 8/30\n",
      " - 4s - loss: 0.0491\n",
      "Epoch 9/30\n",
      " - 4s - loss: 0.0475\n",
      "Epoch 10/30\n",
      " - 4s - loss: 0.0468\n",
      "Epoch 11/30\n",
      " - 4s - loss: 0.0465\n",
      "Epoch 12/30\n",
      " - 3s - loss: 0.0462\n",
      "Epoch 13/30\n",
      " - 3s - loss: 0.0450\n",
      "Epoch 14/30\n",
      " - 3s - loss: 0.0440\n",
      "Epoch 15/30\n",
      " - 3s - loss: 0.0433\n",
      "Epoch 16/30\n",
      " - 3s - loss: 0.0432\n",
      "Epoch 17/30\n",
      " - 3s - loss: 0.0425\n",
      "Epoch 18/30\n",
      " - 3s - loss: 0.0424\n",
      "Epoch 19/30\n",
      " - 3s - loss: 0.0421\n",
      "Epoch 20/30\n",
      " - 3s - loss: 0.0400\n",
      "Epoch 21/30\n",
      " - 3s - loss: 0.0416\n",
      "Epoch 22/30\n",
      " - 4s - loss: 0.0406\n",
      "Epoch 23/30\n",
      " - 4s - loss: 0.0407\n",
      "Epoch 24/30\n",
      " - 6s - loss: 0.0401\n",
      "Epoch 25/30\n",
      " - 6s - loss: 0.0397\n",
      "Epoch 26/30\n",
      " - 5s - loss: 0.0388\n",
      "Epoch 27/30\n",
      " - 5s - loss: 0.0385\n",
      "Epoch 28/30\n",
      " - 5s - loss: 0.0379\n",
      "Epoch 29/30\n",
      " - 5s - loss: 0.0378\n",
      "Epoch 30/30\n",
      " - 6s - loss: 0.0388\n"
     ]
    },
    {
     "data": {
      "text/plain": [
       "<matplotlib.image.AxesImage at 0x15a90be10>"
      ]
     },
     "execution_count": 223,
     "metadata": {},
     "output_type": "execute_result"
    },
    {
     "data": {
      "image/png": "[encoded data removed]",
      "text/plain": [
       "<matplotlib.figure.Figure at 0x155978b00>"
      ]
     },
     "metadata": {},
     "output_type": "display_data"
    },
    {
     "data": {
      "image/png": "[encoded data removed]",
      "text/plain": [
       "<matplotlib.figure.Figure at 0x1559b1160>"
      ]
     },
     "metadata": {},
     "output_type": "display_data"
    }
   ],
   "source": [
    "### Simple dense ###\n",
    "b = np.ndarray.flatten(res)\n",
    "b = to_categorical(b)\n",
    "plt.figure()\n",
    "plt.imshow(res, cmap=\"gray\")\n",
    "plt.figure()\n",
    "\n",
    "A = X\n",
    "model = Sequential([Dense(36, input_dim = 2, activation = 'relu')])\n",
    "model.add(Dense(36, activation = 'relu'))\n",
    "model.add(Dense(36, activation = 'relu'))\n",
    "model.add(Dense(36, activation = 'relu'))\n",
    "model.add(Dropout(0.2, input_shape=(36,)))\n",
    "model.add(Dense(36, activation = 'relu'))\n",
    "model.add(Dropout(0.2, input_shape=(36,)))\n",
    "model.add(Dense(2, activation = 'softmax'))\n",
    "model.compile(optimizer = 'adam', loss = 'binary_crossentropy')\n",
    "model.fit(A, b, batch_size = 64, epochs = 30, verbose = 2)\n",
    "    \n",
    "resPred = model.predict_classes(A, batch_size = 64, verbose = 2)\n",
    "\n",
    "\n",
    "img = np.reshape(resPred, (128*2, 128*3))\n",
    "\n",
    "\n",
    "plt.imshow(img, cmap=\"gray\")"
   ]
  },
  {
   "cell_type": "code",
   "execution_count": 231,
   "metadata": {},
   "outputs": [
    {
     "name": "stdout",
     "output_type": "stream",
     "text": [
      "(2, 36)\n"
     ]
    },
    {
     "data": {
      "image/png": "[encoded data removed]",
      "text/plain": [
       "<matplotlib.figure.Figure at 0x15fff4630>"
      ]
     },
     "metadata": {},
     "output_type": "display_data"
    },
    {
     "name": "stdout",
     "output_type": "stream",
     "text": [
      "(36, 36)\n"
     ]
    },
    {
     "data": {
      "image/png": "[encoded data removed]",
      "text/plain": [
       "<matplotlib.figure.Figure at 0x15ffcf080>"
      ]
     },
     "metadata": {},
     "output_type": "display_data"
    },
    {
     "name": "stdout",
     "output_type": "stream",
     "text": [
      "(36, 36)\n"
     ]
    },
    {
     "data": {
      "image/png": "[encoded data removed]",
      "text/plain": [
       "<matplotlib.figure.Figure at 0x15ffa97b8>"
      ]
     },
     "metadata": {},
     "output_type": "display_data"
    },
    {
     "name": "stdout",
     "output_type": "stream",
     "text": [
      "(36, 36)\n"
     ]
    },
    {
     "data": {
      "image/png": "[encoded data removed]",
      "text/plain": [
       "<matplotlib.figure.Figure at 0x161e28ba8>"
      ]
     },
     "metadata": {},
     "output_type": "display_data"
    },
    {
     "name": "stdout",
     "output_type": "stream",
     "text": [
      "(36, 36)\n"
     ]
    },
    {
     "data": {
      "image/png": "[encoded data removed]",
      "text/plain": [
       "<matplotlib.figure.Figure at 0x161eba7b8>"
      ]
     },
     "metadata": {},
     "output_type": "display_data"
    },
    {
     "name": "stdout",
     "output_type": "stream",
     "text": [
      "(36, 2)\n"
     ]
    },
    {
     "data": {
      "image/png": "[encoded data removed]",
      "text/plain": [
       "<matplotlib.figure.Figure at 0x161f37cf8>"
      ]
     },
     "metadata": {},
     "output_type": "display_data"
    }
   ],
   "source": [
    "#visualizing a weight layer#\n",
    "for i in range(0, 8):\n",
    "    try:\n",
    "        layer_n2 = np.array(model.layers[i].get_weights()[0])\n",
    "        print(layer_n2.shape)\n",
    "    #     layer_n2 = np.reshape(layer_n2, (36, 36))\n",
    "        layer_n2[layer_n2 < 0] = 0\n",
    "        plt.imshow(layer_n2)\n",
    "        plt.show()\n",
    "    except:\n",
    "        pass"
   ]
  },
  {
   "cell_type": "code",
   "execution_count": 114,
   "metadata": {},
   "outputs": [],
   "source": [
    "save_array(\"X_abvalues\", X)"
   ]
  },
  {
   "cell_type": "code",
   "execution_count": 10,
   "metadata": {},
   "outputs": [
    {
     "name": "stdout",
     "output_type": "stream",
     "text": [
      "(45, 68)\n"
     ]
    },
    {
     "data": {
      "image/png": "[encoded data removed]",
      "text/plain": [
       "<matplotlib.figure.Figure at 0x121e73898>"
      ]
     },
     "metadata": {},
     "output_type": "display_data"
    },
    {
     "data": {
      "image/png": "[encoded data removed]",
      "text/plain": [
       "<matplotlib.figure.Figure at 0x121e76b38>"
      ]
     },
     "metadata": {},
     "output_type": "display_data"
    }
   ],
   "source": [
    "def subSample(anArray, reductionFactor,shouldDraw=False):\n",
    "    #Note that reductionFactor is a float between 0 and 1\n",
    "    #Also note reductionFactor is per dimension (so for us, the true size reduction is\n",
    "    #   reductionFactor squared)\n",
    "    xSamples = np.linspace(0,255,int(255*reductionFactor),dtype=int)\n",
    "    ySamples = np.linspace(0,383,int(383*reductionFactor),dtype=int)\n",
    "    ans = anArray[np.ix_(xSamples, ySamples)]\n",
    "    if shouldDraw:\n",
    "        plt.figure()\n",
    "        plt.imshow(ans, cmap=\"gray\")\n",
    "        plt.figure()\n",
    "        plt.imshow(anArray, cmap=\"gray\")\n",
    "    return ans\n",
    "\n",
    "\n",
    "factor = 0.18\n",
    "a = subSample(res, factor, True)\n",
    "print(a.shape)\n"
   ]
  },
  {
   "cell_type": "markdown",
   "metadata": {},
   "source": [
    "# Data X, Y filling"
   ]
  },
  {
   "cell_type": "code",
   "execution_count": 231,
   "metadata": {},
   "outputs": [
    {
     "name": "stdout",
     "output_type": "stream",
     "text": [
      "[[-2.         -1.         -0.12584225  0.05355327]\n",
      " [-1.94778068 -1.         -0.12584225  0.05355327]\n",
      " [-1.88511749 -1.         -0.12584225  0.05355327]\n",
      " ...\n",
      " [ 1.87467363  1.         -0.13967531 -0.68114153]\n",
      " [ 1.93733681  1.         -0.13967531 -0.68114153]\n",
      " [ 2.          1.         -0.13967531 -0.68114153]]\n",
      "(6585120, 4)\n",
      "___\n",
      "[1 1 1 ... 1 1 1]\n",
      "(6585120,)\n"
     ]
    }
   ],
   "source": [
    "factor = 0.18\n",
    "txt = open(\"data/meta/cvalues.txt\")\n",
    "X_ab= np.load(\"X_abvalues.npy\")\n",
    "X_ab = X_ab.reshape(256, 384, 2)\n",
    "X_ab = subSample(X_ab, factor)\n",
    "X_ab = np.reshape(X_ab, (45*68, 2))\n",
    "X = []\n",
    "Y = []\n",
    "for desc, imgnum in zip(txt, range(2152)): #2151+1 since top range is exclusive\n",
    "    Fname, a, b = desc.split()\n",
    "    b = b[:-1] # remove the 'i' at the end\n",
    "    arr = np.load(\"./data/julia\"+str(imgnum)+\".npy\")\n",
    "    arr = subSample(arr, factor)\n",
    "    arr = np.ndarray.flatten(arr)\n",
    "    Y.extend(arr)\n",
    "    for coord in X_ab:\n",
    "        a, b = float(a), float(b)\n",
    "        X.append([float(coord[0]), float(coord[1]), a, b])\n",
    "X = np.array(X)\n",
    "Y = np.array(Y)\n",
    "print(X)\n",
    "print(X.shape)\n",
    "print(\"___\")\n",
    "print(Y)\n",
    "print(Y.shape)\n",
    "save_array('X', X)\n",
    "save_array('Y', Y)\n",
    "   "
   ]
  },
  {
   "cell_type": "code",
   "execution_count": 181,
   "metadata": {},
   "outputs": [],
   "source": [
    "arr = np.load(\"./data/julia\"+str(1)+\".npy\")"
   ]
  },
  {
   "cell_type": "code",
   "execution_count": 182,
   "metadata": {},
   "outputs": [
    {
     "data": {
      "text/plain": [
       "<matplotlib.image.AxesImage at 0x11b589ba8>"
      ]
     },
     "execution_count": 182,
     "metadata": {},
     "output_type": "execute_result"
    },
    {
     "data": {
      "image/png": "[encoded data removed]",
      "text/plain": [
       "<matplotlib.figure.Figure at 0x105b9a710>"
      ]
     },
     "metadata": {},
     "output_type": "display_data"
    }
   ],
   "source": [
    "plt.imshow(arr)"
   ]
  },
  {
   "cell_type": "code",
   "execution_count": 237,
   "metadata": {},
   "outputs": [
    {
     "name": "stdout",
     "output_type": "stream",
     "text": [
      "[[-0.12584225  0.05355327]\n",
      " [ 0.32086338 -0.08358595]\n",
      " [-0.45608656 -0.37586788]\n",
      " ...\n",
      " [-1.00921746 -0.18455224]\n",
      " [-0.64422139 -0.07463499]\n",
      " [-0.13967531 -0.68114153]]\n",
      "(2152, 2)\n"
     ]
    }
   ],
   "source": [
    "txt = open(\"data/meta/cvalues.txt\")\n",
    "X = []\n",
    "for desc in txt: #2151+1 since top range is exclusive\n",
    "    Fname, a, b = desc.split()\n",
    "    b = b[:-1] # remove the 'i' at the end\n",
    "    a, b = float(a), float(b)\n",
    "    X.append([a, b])\n",
    "X = np.array(X)\n",
    "print(X)\n",
    "print(X.shape)\n",
    "save_array('C_values', X)\n",
    "   "
   ]
  },
  {
   "cell_type": "code",
   "execution_count": 235,
   "metadata": {},
   "outputs": [
    {
     "name": "stdout",
     "output_type": "stream",
     "text": [
      "<_io.TextIOWrapper name='data/meta/cvalues.txt' mode='r' encoding='UTF-8'>\n"
     ]
    }
   ],
   "source": [
    "print(txt)"
   ]
  },
  {
   "cell_type": "code",
   "execution_count": null,
   "metadata": {},
   "outputs": [],
   "source": []
  }
 ],
 "metadata": {
  "colab": {
   "collapsed_sections": [],
   "default_view": {},
   "name": "Data Generation.ipynb",
   "provenance": [],
   "toc_visible": true,
   "version": "0.3.2",
   "views": {}
  },
  "kernelspec": {
   "display_name": "Python 3",
   "language": "python",
   "name": "python3"
  },
  "language_info": {
   "codemirror_mode": {
    "name": "ipython",
    "version": 3
   },
   "file_extension": ".py",
   "mimetype": "text/x-python",
   "name": "python",
   "nbconvert_exporter": "python",
   "pygments_lexer": "ipython3",
   "version": "3.6.3"
  }
 },
 "nbformat": 4,
 "nbformat_minor": 2
}
