{
 "cells": [
  {
   "cell_type": "code",
   "execution_count": 1,
   "metadata": {
    "collapsed": false,
    "scrolled": false
   },
   "outputs": [],
   "source": [
    "from sklearn import linear_model\n",
    "from sklearn import kernel_ridge\n",
    "from sklearn.preprocessing import PolynomialFeatures\n",
    "from sklearn.model_selection import train_test_split\n",
    "from sklearn import svm\n",
    "import itertools \n",
    "import numpy as np\n",
    "from numba import vectorize, complex64, boolean, jit\n",
    "import os, sys, itertools, time\n",
    "from PIL import Image\n",
    "\n",
    "import matplotlib.pyplot as plt\n",
    "from matplotlib import colors\n",
    "%matplotlib inline"
   ]
  },
  {
   "cell_type": "markdown",
   "metadata": {},
   "source": [
    "## Creating and loading Julia sets"
   ]
  },
  {
   "cell_type": "code",
   "execution_count": 2,
   "metadata": {
    "collapsed": false
   },
   "outputs": [
    {
     "name": "stdout",
     "output_type": "stream",
     "text": [
      "(11970, 4) (11970,) (63, 95)\n",
      "[-2.         -1.         -0.12584225  0.05355327] [-1.95822454 -1.         -0.12584225  0.05355327]\n"
     ]
    },
    {
     "data": {
      "text/plain": [
       "<matplotlib.image.AxesImage at 0x1129f88d0>"
      ]
     },
     "execution_count": 2,
     "metadata": {},
     "output_type": "execute_result"
    },
    {
     "data": {
      "image/png": "[encoded data removed]",
      "text/plain": [
       "<matplotlib.figure.Figure at 0x1122e9518>"
      ]
     },
     "metadata": {},
     "output_type": "display_data"
    }
   ],
   "source": [
    "@jit\n",
    "def load_array(filename, prefix=\"data/\"):\n",
    "    filename = prefix + filename\n",
    "    return np.load(filename)\n",
    "\n",
    "@jit\n",
    "def f(z, c):   #iterating function\n",
    "    return z * z + c\n",
    "\n",
    "@jit\n",
    "def does_diverge(z, c, iters):  #checks if a given pixel diverges\n",
    "    for _ in range(iters):\n",
    "        z = f(z, c)\n",
    "        if abs(z) > 2: # Diverges\n",
    "            return 1\n",
    "    return 0\n",
    "\n",
    "def generate_julia_set(size, numIter, c=False):\n",
    "    x = np.linspace(-2, 2, size * 3)\n",
    "    y = np.linspace(-1, 1, size * 2)\n",
    "    X = np.array(list(itertools.product(y, x)))[:, (1, 0)]\n",
    "    if not c:\n",
    "        output = np.array([does_diverge(complex(*sample), complex(*sample), numIter) for sample in X])\n",
    "    else:\n",
    "        output = np.array([does_diverge(complex(*sample), c, numIter) for sample in X])\n",
    "    \n",
    "    return X, output.reshape((size * 2, size * 3)) #image format\n",
    "\n",
    "def subSample(anArray, reductionFactor, shouldDraw=False):\n",
    "    #Note that reductionFactor is a float between 0 and 1\n",
    "    #Also note reductionFactor is per dimension (so for us, the true size reduction is\n",
    "    #   reductionFactor squared)\n",
    "    xSamples = np.linspace(0,255,int(255*reductionFactor),dtype=int)\n",
    "    ySamples = np.linspace(0,383,int(383*reductionFactor),dtype=int)\n",
    "    ans = anArray[np.ix_(xSamples, ySamples)]\n",
    "    if shouldDraw:\n",
    "        plt.figure()\n",
    "        plt.imshow(ans, cmap=\"gray\")\n",
    "        plt.figure()\n",
    "        plt.imshow(anArray, cmap=\"gray\")\n",
    "    return ans\n",
    "\n",
    "def loadTask(whichSamples, theFactor):\n",
    "    txt = open(\"data/meta/cvalues.txt\")\n",
    "    X_ab= load_array(\"X_abvalues.npy\")\n",
    "    X_ab = X_ab.reshape(256, 384, 2)\n",
    "    X_ab = subSample(X_ab, theFactor)\n",
    "    image_size = X_ab.shape[:2]\n",
    "    X_ab = X_ab.reshape((X_ab.shape[0]*X_ab.shape[1]), 2)\n",
    "    X = []\n",
    "    Y = []\n",
    "    for desc, imgnum in zip(txt, whichSamples): #2151+1 since top range is exclusive\n",
    "        Fname, a, b = desc.split()\n",
    "        b = b[:-1] # remove the 'i' at the end\n",
    "        \n",
    "        _, arr = generate_julia_set(128, 1, c=float(a)+float(b)*1j)\n",
    "        \n",
    "        arr = subSample(arr, theFactor)\n",
    "        arr = np.ndarray.flatten(arr)\n",
    "        Y.extend(arr)\n",
    "        for coord in X_ab:\n",
    "            a, b = float(a), float(b)\n",
    "            X.append([float(coord[0]), float(coord[1]), a, b])\n",
    "    return np.array(X), np.array(Y), image_size\n",
    "\n",
    "a = -.1\n",
    "b = 0.9\n",
    "# X, y = generate_julia_set(128, 1, c=a+b*1j) #c=-1+0.2j is a decent value\n",
    "factor = 0.25\n",
    "X, y, smallShape = loadTask([0, 1], factor)\n",
    "print(X.shape, y.shape, smallShape)\n",
    "print(X[0], X[1])\n",
    "plt.imshow(y[:smallShape[0]*smallShape[1]].reshape(smallShape), cmap = 'gray')"
   ]
  },
  {
   "cell_type": "code",
   "execution_count": 3,
   "metadata": {
    "collapsed": false
   },
   "outputs": [
    {
     "name": "stdout",
     "output_type": "stream",
     "text": [
      "(8019, 4) (3951, 4) (8019,) (3951,)\n"
     ]
    }
   ],
   "source": [
    "X_train, X_test, y_train, y_test = train_test_split(X, y, test_size=0.33, random_state=42)\n",
    "print(X_train.shape, X_test.shape, y_train.shape, y_test.shape)"
   ]
  },
  {
   "cell_type": "markdown",
   "metadata": {},
   "source": [
    "## Predicting Divergence based off x, y, and c values"
   ]
  },
  {
   "cell_type": "code",
   "execution_count": 4,
   "metadata": {
    "collapsed": false
   },
   "outputs": [],
   "source": [
    "######Start Error Functions#######\n",
    "def getSquaredError(sklearnModel, xTest, yTest):\n",
    "    preds = sklearnModel.predict(xTest)\n",
    "    squaredError = np.linalg.norm(preds)**2\n",
    "    return squaredError/len(yTest)\n",
    "\n",
    "def getClassificationError(sklearnModel, xTest, yTest):\n",
    "    preds = sklearnModel.predict(xTest)\n",
    "    preds[preds < .5] = 0\n",
    "    preds[preds >= .5] = 1\n",
    "    err = np.mean(np.where(preds == yTest, 0, 1))\n",
    "    return err\n",
    "######End Error Functions#######\n",
    "\n",
    "######Start ols Preprocessing#######\n",
    "def singleIterPreprocess(xData):\n",
    "    print(\"Special preprocessing\")\n",
    "    featxData = []\n",
    "    for aRow in xData:\n",
    "        x, y, a, b = aRow[0], aRow[1], aRow[2], aRow[3]\n",
    "        tmp = [1, (x**2 - y**2 + a)**2, (2*x*y + b)**2] #(x**2 - y**2 + a)*(2*x*y + b)\n",
    "#         tmp = [x, y, a, b]\n",
    "        featxData.append(tmp)\n",
    "    featxData = np.array(featxData)\n",
    "#     poly = PolynomialFeatures(degree=4)\n",
    "#     featxData = poly.fit_transform(featxData)\n",
    "    return featxData\n",
    "\n",
    "def olsPreprocessX(xData, theDegree):\n",
    "    poly = PolynomialFeatures(degree=theDegree)\n",
    "    featxData = poly.fit_transform(xData)\n",
    "    return featxData\n",
    "######End ols Preprocessing#######\n",
    "\n",
    "##################################\n",
    "def visualize(sklearnModel, featxData):\n",
    "    yData = sklearnModel.predict(featxData)\n",
    "    yData[yData < .5] = 0\n",
    "    yData[yData >=.5] = 1\n",
    "    if np.min(yData) == np.max(yData):\n",
    "        print(\"Got only \" + str(np.min(yData)))\n",
    "    plt.figure()\n",
    "    plt.imshow(yData.reshape(smallShape), cmap=\"gray\")\n",
    "##################################\n",
    "\n",
    "\n",
    "def ols(xTrain, yTrain, xTest, yTest, theDegree, vizDataset, shouldVisualize=False):\n",
    "    if theDegree:\n",
    "        preProcFunc = lambda x: olsPreprocessX(x, theDegree)\n",
    "    else:\n",
    "        preProcFunc = lambda x: singleIterPreprocess(x)\n",
    "        \n",
    "    xTrain = preProcFunc(xTrain)\n",
    "    xTest = preProcFunc(xTest)\n",
    "\n",
    "##     List of possible models\n",
    "#     reg = linear_model.LinearRegression()\n",
    "#     reg = kernel_ridge.KernelRidge(kernel=\"rbf\") \n",
    "#     reg = svm.SVC(kernel=\"rbf\")  #class_weight={0:0.9, 1:0.1}\n",
    "#     kernel=\"rbf\", kernel=\"sigmoid\", kernel=\"polynomial\", degree=5\n",
    "    reg = linear_model.LogisticRegression()\n",
    "\n",
    "    reg.fit(xTrain, yTrain)\n",
    "    trainError = getClassificationError(reg, xTrain, yTrain) \n",
    "    testError = getClassificationError(reg, xTest, yTest)\n",
    "    \n",
    "    if shouldVisualize:\n",
    "        xData = preProcFunc(vizDataset)\n",
    "        visualize(reg, xData)\n",
    "\n",
    "    return trainError, testError, reg, preProcFunc\n",
    "\n",
    "def ridgeClassification(x, y, lmbdas):\n",
    "    xTrain, yTrain = olsPreprocess(xTrain, yTrain)\n",
    "    xTrain, yTrain = olsPreprocess(xTest, yTest)\n",
    "\n",
    "    #Preprocess before hand!\n",
    "    trainErrors = []\n",
    "    testErrors = []\n",
    "    for aLmbda in lmbdas:\n",
    "        reg = linear_model.RidgeCV(alphas=aLmbda) #Should pass in apropriate k for CV\n",
    "        reg.fit(xTrain, yTrain)\n",
    "        aTrainError = getSquaredError(reg, xTrain, yTrain) \n",
    "        aTestError = getSquaredError(reg, xTest, yTest)\n",
    "        trainErrors.append(aTrainError)\n",
    "        testErrors.append(aTestError)\n",
    "\n",
    "    return trainErrors, testErrors"
   ]
  },
  {
   "cell_type": "code",
   "execution_count": 5,
   "metadata": {
    "collapsed": false
   },
   "outputs": [
    {
     "name": "stdout",
     "output_type": "stream",
     "text": [
      "Special preprocessing\n",
      "Special preprocessing\n",
      "Special preprocessing\n"
     ]
    },
    {
     "data": {
      "text/plain": [
       "(0.00087292679885272474,\n",
       " 0.0012655024044545685,\n",
       " LogisticRegression(C=1.0, class_weight=None, dual=False, fit_intercept=True,\n",
       "           intercept_scaling=1, max_iter=100, multi_class='ovr', n_jobs=1,\n",
       "           penalty='l2', random_state=None, solver='liblinear', tol=0.0001,\n",
       "           verbose=0, warm_start=False),\n",
       " <function __main__.ols.<locals>.<lambda>>)"
      ]
     },
     "execution_count": 5,
     "metadata": {},
     "output_type": "execute_result"
    },
    {
     "data": {
      "image/png": "[encoded data removed]",
      "text/plain": [
       "<matplotlib.figure.Figure at 0x1124210b8>"
      ]
     },
     "metadata": {},
     "output_type": "display_data"
    }
   ],
   "source": [
    "ols(X_train, y_train, X_test, y_test, None, X[:smallShape[0]*smallShape[1]], shouldVisualize=True)"
   ]
  },
  {
   "cell_type": "code",
   "execution_count": 6,
   "metadata": {
    "collapsed": false,
    "scrolled": false
   },
   "outputs": [
    {
     "data": {
      "image/png": "[encoded data removed]",
      "text/plain": [
       "<matplotlib.figure.Figure at 0x1122ce160>"
      ]
     },
     "metadata": {},
     "output_type": "display_data"
    }
   ],
   "source": [
    "plt.figure(figsize=(10,10))\n",
    "for i in range(1, 7, 1):\n",
    "    trainErr, testErr, theModel, preProcessFn = \\\n",
    "        ols(X_train, y_train, X_test, y_test, i, None, shouldVisualize=False)\n",
    "\n",
    "    tmp = preProcessFn(X[:smallShape[0]*smallShape[1]])\n",
    "    \n",
    "    yData = theModel.predict(tmp)\n",
    "    yData[yData < .5] = 0\n",
    "    yData[yData >=.5] = 1\n",
    "    plt.subplot(6,4,i)\n",
    "    plt.imshow(yData.reshape(smallShape), cmap=\"gray\")"
   ]
  },
  {
   "cell_type": "code",
   "execution_count": null,
   "metadata": {
    "collapsed": false
   },
   "outputs": [],
   "source": []
  }
 ],
 "metadata": {
  "anaconda-cloud": {},
  "kernelspec": {
   "display_name": "Python [Root]",
   "language": "python",
   "name": "Python [Root]"
  },
  "language_info": {
   "codemirror_mode": {
    "name": "ipython",
    "version": 3
   },
   "file_extension": ".py",
   "mimetype": "text/x-python",
   "name": "python",
   "nbconvert_exporter": "python",
   "pygments_lexer": "ipython3",
   "version": "3.5.2"
  }
 },
 "nbformat": 4,
 "nbformat_minor": 0
}
