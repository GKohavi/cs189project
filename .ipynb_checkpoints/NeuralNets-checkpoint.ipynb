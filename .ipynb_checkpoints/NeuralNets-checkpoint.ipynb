{
 "cells": [
  {
   "cell_type": "code",
   "execution_count": 1,
   "metadata": {
    "colab": {
     "autoexec": {
      "startup": false,
      "wait_interval": 0
     },
     "base_uri": "https://localhost:8080/",
     "height": 34
    },
    "colab_type": "code",
    "executionInfo": {
     "elapsed": 2163,
     "status": "ok",
     "timestamp": 1524683510046,
     "user": {
      "displayName": "Murtaza Dalal",
      "photoUrl": "//lh5.googleusercontent.com/-XZQvrfHXH6o/AAAAAAAAAAI/AAAAAAAAAkc/Ylh6EjWrAb4/s50-c-k-no/photo.jpg",
      "userId": "108106563031028622506"
     },
     "user_tz": 420
    },
    "id": "dDqDKZe-jkbC",
    "outputId": "9ea177bb-05ee-4e91-c18e-4582d8e5814a"
   },
   "outputs": [
    {
     "name": "stderr",
     "output_type": "stream",
     "text": [
      "Using TensorFlow backend.\n"
     ]
    }
   ],
   "source": [
    "import keras \n",
    "from keras.layers import Dense\n",
    "from keras.models import Sequential\n",
    "from keras.layers import Dense, Dropout, Activation, Flatten, Reshape\n",
    "from keras.layers import Convolution2D, MaxPooling2D\n",
    "from keras.utils import to_categorical\n",
    "from keras.wrappers.scikit_learn import KerasClassifier\n",
    "from sklearn.model_selection import cross_val_score\n",
    "from sklearn.model_selection import KFold\n",
    "from sklearn.model_selection import StratifiedKFold\n",
    "from sklearn.model_selection import train_test_split\n",
    "from sklearn.metrics import accuracy_score\n",
    "from sklearn.metrics import mean_squared_error\n",
    "from sklearn.metrics import make_scorer\n",
    "import itertools\n",
    "import io\n",
    "import numpy as np\n",
    "import matplotlib.pyplot as plt\n",
    "%matplotlib inline"
   ]
  },
  {
   "cell_type": "code",
   "execution_count": 2,
   "metadata": {
    "colab": {
     "autoexec": {
      "startup": false,
      "wait_interval": 0
     }
    },
    "colab_type": "code",
    "id": "75kH5df96rFP"
   },
   "outputs": [],
   "source": [
    "np.random.seed(420) "
   ]
  },
  {
   "cell_type": "code",
   "execution_count": 3,
   "metadata": {
    "colab": {
     "autoexec": {
      "startup": false,
      "wait_interval": 0
     }
    },
    "colab_type": "code",
    "id": "GLpwpJoG2DP-"
   },
   "outputs": [],
   "source": [
    "def create_feedforward_network(model, hidden_sizes, input_shape=None):\n",
    "    count = 0\n",
    "    for size in hidden_sizes:\n",
    "        if count == 0 and input_shape is not None:\n",
    "            model.add(Dense(size, activation='relu', input_shape=input_shape))\n",
    "            count+=1\n",
    "        else:\n",
    "            model.add(Dense(size, activation='relu'))"
   ]
  },
  {
   "cell_type": "code",
   "execution_count": 30,
   "metadata": {
    "colab": {
     "autoexec": {
      "startup": false,
      "wait_interval": 0
     }
    },
    "colab_type": "code",
    "id": "Kz3G7NTO5rKq"
   },
   "outputs": [],
   "source": [
    "def create_convolutional_network(model, conv_sizes, fc_sizes, input_shape):\n",
    "    #structure: conv, pool, conv, pool and so on \n",
    "    count = 0\n",
    "    for size in conv_sizes:    \n",
    "        num_filters, kernel_size, pool_size = size\n",
    "        if count == 0:\n",
    "            model.add(Convolution2D(num_filters, kernel_size=(kernel_size, kernel_size), padding='same', activation='relu', input_shape=input_shape))\n",
    "            count+=1\n",
    "        else:\n",
    "            model.add(Convolution2D(num_filters, kernel_size=(kernel_size, kernel_size), padding='same', activation='relu'))\n",
    "        model.add(MaxPooling2D(pool_size=(pool_size, pool_size)))\n",
    "    model.add(Flatten())\n",
    "    create_feedforward_network(model, fc_sizes)"
   ]
  },
  {
   "cell_type": "code",
   "execution_count": 5,
   "metadata": {
    "colab": {
     "autoexec": {
      "startup": false,
      "wait_interval": 0
     }
    },
    "colab_type": "code",
    "id": "G1m0E6kP2XZm"
   },
   "outputs": [],
   "source": [
    "def create_network(hidden_sizes, num_outputs, do_regression, use_fc=True, conv_sizes=None, input_shape=None, optimizer='adam'):\n",
    "    model = Sequential()\n",
    "    if use_fc:\n",
    "        create_feedforward_network(model, hidden_sizes, input_shape)\n",
    "    else:\n",
    "        create_convolutional_network(model, conv_sizes, hidden_sizes, input_shape)\n",
    "    if do_regression:\n",
    "        model.add(Dense(num_outputs))\n",
    "        model.compile(loss='mean_squared_error', optimizer=optimizer)\n",
    "    else:\n",
    "        model.add(Dense(num_outputs, activation='softmax'))\n",
    "        model.compile(loss='categorical_crossentropy',\n",
    "                  optimizer=optimizer,\n",
    "                  metrics=['accuracy'])\n",
    "\n",
    "    return model\n"
   ]
  },
  {
   "cell_type": "code",
   "execution_count": 6,
   "metadata": {
    "colab": {
     "autoexec": {
      "startup": false,
      "wait_interval": 0
     }
    },
    "colab_type": "code",
    "id": "S4EgZQce6NYB"
   },
   "outputs": [],
   "source": [
    "def get_fc_data():\n",
    "    ''' \n",
    "    assume data is of the form:\n",
    "    each row of X is [x1, x2, a, b] where c = a+bi and x1, x2 are the mapped point \n",
    "    Y is a vector with 0/1 values that represent if that particular pixel location + c-value diverge or not\n",
    "    '''\n",
    "    X = np.load('X.npy')\n",
    "    Y = np.load('Y.npy')\n",
    "    Y = to_categorical(Y)\n",
    "    X_train, X_test, y_train, y_test = train_test_split(X, Y, test_size=0.33, random_state=42)\n",
    "    return X_train, X_test, y_train, y_test\n"
   ]
  },
  {
   "cell_type": "code",
   "execution_count": 7,
   "metadata": {},
   "outputs": [],
   "source": [
    "def subSample(anArray, reductionFactor,shouldDraw=False):\n",
    "    #Note that reductionFactor is a float between 0 and 1\n",
    "    #Also note reductionFactor is per dimension (so for us, the true size reduction is\n",
    "    #   reductionFactor squared)\n",
    "    xSamples = np.linspace(0,255,int(255*reductionFactor),dtype=int)\n",
    "    ySamples = np.linspace(0,383,int(383*reductionFactor),dtype=int)\n",
    "    ans = anArray[np.ix_(xSamples, ySamples)]\n",
    "    if shouldDraw:\n",
    "        plt.figure()\n",
    "        plt.imshow(ans, cmap=\"gray\")\n",
    "        plt.figure()\n",
    "        plt.imshow(anArray, cmap=\"gray\")\n",
    "    return ans"
   ]
  },
  {
   "cell_type": "code",
   "execution_count": 8,
   "metadata": {
    "colab": {
     "autoexec": {
      "startup": false,
      "wait_interval": 0
     }
    },
    "colab_type": "code",
    "id": "wPq8J2jFAOEy"
   },
   "outputs": [],
   "source": [
    "def get_conv_data():\n",
    "    Y = np.load('C_values.npy')#batch size by 2 matrix\n",
    "    reduction_factor = 1\n",
    "    img_shape = [int(255*reduction_factor), int(383*reduction_factor)]\n",
    "    X = np.zeros((Y.shape[0], *img_shape))#images\n",
    "    base = 'data/julia'\n",
    "    for i in range(Y.shape[0]):\n",
    "        img = np.load(base+str(i)+'.npy')\n",
    "        img = subSample(img, reduction_factor)\n",
    "        X[i] = img\n",
    "    X = np.reshape(X, (*X.shape, 1))\n",
    "    X_train, X_test, y_train, y_test = train_test_split(X, Y, test_size=0.33, random_state=42)\n",
    "    return X_train, X_test, y_train, y_test, img_shape"
   ]
  },
  {
   "cell_type": "code",
   "execution_count": 9,
   "metadata": {
    "colab": {
     "autoexec": {
      "startup": false,
      "wait_interval": 0
     }
    },
    "colab_type": "code",
    "id": "E0H9KnCa6taJ"
   },
   "outputs": [],
   "source": [
    "def cross_val(model, X, y, num_folds, classification=False, fit_params=dict()):\n",
    "    if classification:\n",
    "        kfold = StratifiedKFold(n_splits=num_folds, random_state=None, shuffle=True)\n",
    "        scorer = accuracy_score\n",
    "    else:\n",
    "        kfold = KFold(n_splits=num_folds, random_state=None, shuffle=True)\n",
    "        scorer = mean_squared_error\n",
    "    return cross_val_score(model, X, y, cv=kfold, scoring=make_scorer(scorer), fit_params=fit_params)"
   ]
  },
  {
   "cell_type": "code",
   "execution_count": 10,
   "metadata": {},
   "outputs": [],
   "source": [
    "def f(z, c):   #iterating function\n",
    "    return z * z + c\n",
    "def does_diverge(z, c, iters):  #checks if a given pixel diverges\n",
    "#     iters = 3\n",
    "    for _ in range(iters):\n",
    "        z = f(z, c)\n",
    "        if abs(z) > 2: # Diverges\n",
    "            return 1\n",
    "    return 0\n",
    "def generate_julia_set(size, c=False, iterations=50):\n",
    "    x = np.linspace(-2, 2, size * 3)\n",
    "    y = np.linspace(-1, 1, size * 2)\n",
    "    X = np.array(list(itertools.product(y, x)))[:, (1, 0)]\n",
    "    if not c:\n",
    "        output = np.array([does_diverge(complex(*sample), complex(*sample), iterations) for sample in X])\n",
    "    else:\n",
    "        output = np.array([does_diverge(complex(*sample), c, iterations) for sample in X])\n",
    "    return X, output.reshape((size * 2, size * 3)) #image format"
   ]
  },
  {
   "cell_type": "code",
   "execution_count": 11,
   "metadata": {
    "colab": {
     "autoexec": {
      "startup": false,
      "wait_interval": 0
     },
     "base_uri": "https://localhost:8080/",
     "height": 163
    },
    "colab_type": "code",
    "executionInfo": {
     "elapsed": 473,
     "status": "error",
     "timestamp": 1524426672353,
     "user": {
      "displayName": "Murtaza Dalal",
      "photoUrl": "//lh5.googleusercontent.com/-XZQvrfHXH6o/AAAAAAAAAAI/AAAAAAAAAkc/Ylh6EjWrAb4/s50-c-k-no/photo.jpg",
      "userId": "108106563031028622506"
     },
     "user_tz": 420
    },
    "id": "XSF32NuV8_Eo",
    "outputId": "712834fc-a185-4b71-8ec6-c0b220f4d5ed"
   },
   "outputs": [],
   "source": [
    "Xtrain_fc, Xtest_fc, ytrain_fc, ytest_fc = get_fc_data()"
   ]
  },
  {
   "cell_type": "code",
   "execution_count": 12,
   "metadata": {
    "scrolled": true
   },
   "outputs": [],
   "source": [
    "# fc_architectures = [[128, 64, 32], [512, 256, 128, 64, 32], [1024, 512, 256, 128, 64, 32]]\n",
    "# histories = []\n",
    "# batch_size = 2048\n",
    "# num_epochs = 100\n",
    "# for architecture in fc_architectures:\n",
    "#     fc_model = create_network(architecture, 2, False, input_shape=[4])\n",
    "#     hist = fc_model.fit(Xtrain_fc, ytrain_fc, batch_size=batch_size, shuffle=True, steps_per_epoch=None, epochs=num_epochs, validation_split=.33)\n",
    "#     histories.append(hist)"
   ]
  },
  {
   "cell_type": "code",
   "execution_count": 13,
   "metadata": {},
   "outputs": [],
   "source": [
    "Xtrain_conv, Xtest_conv, ytrain_conv, ytest_conv, input_shape = get_conv_data()"
   ]
  },
  {
   "cell_type": "code",
   "execution_count": null,
   "metadata": {
    "scrolled": true
   },
   "outputs": [],
   "source": [
    "conv_architectures = [\n",
    "    [[64, 3, 2], [64, 3, 2], [64, 3, 2]],\n",
    "    [[16, 3, 2], [32, 3, 2], [64, 3, 2], [64, 3, 2]],\n",
    "]\n",
    "fc_architectures = [ \n",
    "    [256, 128, 64]\n",
    "]\n",
    "y_scaling = 10"
   ]
  },
  {
   "cell_type": "code",
   "execution_count": null,
   "metadata": {
    "scrolled": true
   },
   "outputs": [],
   "source": [
    "batch_size = 16\n",
    "num_epochs = 20\n",
    "for conv_architecture in conv_architectures:\n",
    "    for fc_architecture in fc_architectures:\n",
    "        model = create_network(fc_architecture, 2, True, conv_sizes = conv_architecture, use_fc=False, input_shape=[*input_shape, 1])\n",
    "        hist = model.fit(Xtrain_conv, ytrain_conv*y_scaling, batch_size=batch_size, shuffle=True, steps_per_epoch=None, epochs=num_epochs, validation_split=.33)\n",
    "        histories.append(hist)\n",
    "        print(model.evaluate(Xtest_conv, ytest_conv*y_scaling))"
   ]
  },
  {
   "cell_type": "code",
   "execution_count": null,
   "metadata": {},
   "outputs": [],
   "source": [
    "print(model.evaluate(Xtest_conv, ytest_conv*y_scaling))"
   ]
  },
  {
   "cell_type": "code",
   "execution_count": null,
   "metadata": {},
   "outputs": [],
   "source": [
    "example = 20\n",
    "pred = model.predict(np.reshape(Xtest_conv[example], (1, *Xtest_conv[48].shape)))[0]/y_scaling\n",
    "x, output_shape = generate_julia_set(128, pred[0] + pred[1]*1j)\n",
    "plt.imshow(output_shape)"
   ]
  },
  {
   "cell_type": "code",
   "execution_count": null,
   "metadata": {},
   "outputs": [],
   "source": [
    "c = ytest_conv[example]\n",
    "x, output_shape = generate_julia_set(128, c[0] + c[1]*1j)\n",
    "plt.imshow(output_shape)"
   ]
  },
  {
   "cell_type": "code",
   "execution_count": null,
   "metadata": {},
   "outputs": [],
   "source": [
    "print(pred, c)"
   ]
  },
  {
   "cell_type": "code",
   "execution_count": 58,
   "metadata": {},
   "outputs": [],
   "source": [
    "def autoencoder(conv_sizes, input_shape, hidden_sizes=[], latent_size=2, optimizer='adam'):\n",
    "    model = Sequential()\n",
    "    image_shape = down_conv(model, conv_sizes, input_shape, hidden_sizes, latent_size)\n",
    "    conv_sizes.reverse()\n",
    "    hidden_sizes.reverse()\n",
    "    up_conv(model, conv_sizes, hidden_sizes, latent_size, image_shape)\n",
    "    model.compile(loss='mean_squared_error', optimizer = optimizer)\n",
    "    return model"
   ]
  },
  {
   "cell_type": "code",
   "execution_count": 69,
   "metadata": {},
   "outputs": [],
   "source": [
    "def down_conv(model, conv_sizes, input_shape, hidden_sizes, latent_size):\n",
    "    count = 0\n",
    "    for size in conv_sizes:    \n",
    "        num_filters, kernel_size, pool_size = size\n",
    "        if count == 0:\n",
    "            model.add(Convolution2D(num_filters, kernel_size=(kernel_size, kernel_size), padding='same', activation='relu', input_shape=input_shape))\n",
    "            count+=1\n",
    "        else:\n",
    "            model.add(Convolution2D(num_filters, kernel_size=(kernel_size, kernel_size), padding='same', activation='relu'))\n",
    "        model.add(MaxPooling2D(pool_size=(pool_size, pool_size)))\n",
    "    image_shape = model.output_shape\n",
    "    model.add(Flatten())    \n",
    "    create_feedforward_network(model, hidden_sizes)\n",
    "    model.add(Dense(latent_size, activation='relu')) #here add penalty to make similar to c \n",
    "    return image_shape[1:]"
   ]
  },
  {
   "cell_type": "code",
   "execution_count": 73,
   "metadata": {},
   "outputs": [],
   "source": [
    "def up_conv(model, conv_sizes, hidden_sizes, latent_size, image_shape):\n",
    "    hidden_sizes = [latent_size] + hidden_sizes \n",
    "    create_feedforward_network(model, hidden_sizes)\n",
    "    print(model.output_shape)\n",
    "#     model.add(Reshape(image_shape))    \n",
    "#     count = 0\n",
    "#     for size in conv_sizes:\n",
    "#         #architecture: conv pool \n",
    "#         num_filters, kernel_size, stride = size[0]\n",
    "#         model.add(Convolution2D(num_filters, kernel_size=(kernel_size, kernel_size), strides = (stride, strides), padding='same', activation='relu'))\n",
    "#         up_size, stride = size[1]\n",
    "#         model.add(UpSampling2D(size=(up_size, up_size)))"
   ]
  },
  {
   "cell_type": "code",
   "execution_count": 74,
   "metadata": {},
   "outputs": [],
   "source": [
    "#convert auto encoder output to fractal\n",
    "# test_img = None\n",
    "# autoencoder = None\n",
    "# test_output = autoencoder.predict(test_img)\n",
    "# test_output = np.where(test_output>=.5, 1, 0)\n",
    "# plt.imshow(test_output, cmap='grey')"
   ]
  },
  {
   "cell_type": "code",
   "execution_count": 75,
   "metadata": {
    "scrolled": false
   },
   "outputs": [
    {
     "name": "stdout",
     "output_type": "stream",
     "text": [
      "(None, 2)\n"
     ]
    }
   ],
   "source": [
    "conv_sizes = [[16, 5, 2], [32, 3, 2], [64, 3, 2]]\n",
    "model = autoencoder(conv_sizes, [*input_shape, 1])"
   ]
  },
  {
   "cell_type": "code",
   "execution_count": null,
   "metadata": {},
   "outputs": [],
   "source": []
  }
 ],
 "metadata": {
  "colab": {
   "collapsed_sections": [],
   "default_view": {},
   "name": "NeuralNets.ipynb",
   "provenance": [],
   "version": "0.3.2",
   "views": {}
  },
  "kernelspec": {
   "display_name": "Python 3",
   "language": "python",
   "name": "python3"
  },
  "language_info": {
   "codemirror_mode": {
    "name": "ipython",
    "version": 3
   },
   "file_extension": ".py",
   "mimetype": "text/x-python",
   "name": "python",
   "nbconvert_exporter": "python",
   "pygments_lexer": "ipython3",
   "version": "3.5.2"
  }
 },
 "nbformat": 4,
 "nbformat_minor": 1
}
