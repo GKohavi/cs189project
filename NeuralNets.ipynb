{
 "cells": [
  {
   "cell_type": "code",
   "execution_count": 14,
   "metadata": {
    "colab": {
     "autoexec": {
      "startup": false,
      "wait_interval": 0
     },
     "base_uri": "https://localhost:8080/",
     "height": 34
    },
    "colab_type": "code",
    "executionInfo": {
     "elapsed": 2163,
     "status": "ok",
     "timestamp": 1524683510046,
     "user": {
      "displayName": "Murtaza Dalal",
      "photoUrl": "//lh5.googleusercontent.com/-XZQvrfHXH6o/AAAAAAAAAAI/AAAAAAAAAkc/Ylh6EjWrAb4/s50-c-k-no/photo.jpg",
      "userId": "108106563031028622506"
     },
     "user_tz": 420
    },
    "id": "dDqDKZe-jkbC",
    "outputId": "9ea177bb-05ee-4e91-c18e-4582d8e5814a"
   },
   "outputs": [],
   "source": [
    "import keras \n",
    "from keras.layers import Dense\n",
    "from keras.models import Sequential\n",
    "from keras.layers import Dense, Dropout, Activation, Flatten, Reshape, BatchNormalization\n",
    "from keras.layers import Convolution2D, MaxPooling2D, UpSampling2D\n",
    "from keras.utils import to_categorical\n",
    "from keras.models import load_model\n",
    "from sklearn.model_selection import train_test_split\n",
    "import itertools\n",
    "import io\n",
    "import numpy as np\n",
    "import matplotlib.pyplot as plt\n",
    "%matplotlib inline"
   ]
  },
  {
   "cell_type": "code",
   "execution_count": 15,
   "metadata": {
    "colab": {
     "autoexec": {
      "startup": false,
      "wait_interval": 0
     }
    },
    "colab_type": "code",
    "id": "75kH5df96rFP"
   },
   "outputs": [],
   "source": [
    "np.random.seed(420) "
   ]
  },
  {
   "cell_type": "code",
   "execution_count": 16,
   "metadata": {
    "colab": {
     "autoexec": {
      "startup": false,
      "wait_interval": 0
     }
    },
    "colab_type": "code",
    "id": "GLpwpJoG2DP-"
   },
   "outputs": [],
   "source": [
    "def create_feedforward_network(model, hidden_sizes, input_shape=None):\n",
    "    count = 0\n",
    "    for size in hidden_sizes:\n",
    "        if count == 0 and input_shape is not None:\n",
    "            model.add(Dense(size, activation='relu', input_shape=input_shape))\n",
    "            count+=1\n",
    "        else:\n",
    "            model.add(Dense(size, activation='relu'))"
   ]
  },
  {
   "cell_type": "code",
   "execution_count": 17,
   "metadata": {
    "colab": {
     "autoexec": {
      "startup": false,
      "wait_interval": 0
     }
    },
    "colab_type": "code",
    "id": "Kz3G7NTO5rKq"
   },
   "outputs": [],
   "source": [
    "def create_convolutional_network(model, conv_sizes, fc_sizes, input_shape):\n",
    "    #structure: conv, pool, conv, pool and so on \n",
    "    count = 0\n",
    "    for size in conv_sizes:    \n",
    "        num_filters, kernel_size, pool_size = size\n",
    "        if count == 0:\n",
    "            model.add(Convolution2D(num_filters, kernel_size=(kernel_size, kernel_size), padding='same', activation='relu', input_shape=input_shape))\n",
    "            count+=1\n",
    "        else:\n",
    "            model.add(Convolution2D(num_filters, kernel_size=(kernel_size, kernel_size), padding='same', activation='relu'))\n",
    "        model.add(MaxPooling2D(pool_size=(pool_size, pool_size)))\n",
    "    model.add(Flatten())\n",
    "    create_feedforward_network(model, fc_sizes)"
   ]
  },
  {
   "cell_type": "code",
   "execution_count": 18,
   "metadata": {
    "colab": {
     "autoexec": {
      "startup": false,
      "wait_interval": 0
     }
    },
    "colab_type": "code",
    "id": "G1m0E6kP2XZm"
   },
   "outputs": [],
   "source": [
    "def create_network(hidden_sizes, num_outputs, do_regression, use_fc=True, conv_sizes=None, input_shape=None, optimizer='adam'):\n",
    "    model = Sequential()\n",
    "    if use_fc:\n",
    "        create_feedforward_network(model, hidden_sizes, input_shape)\n",
    "    else:\n",
    "        create_convolutional_network(model, conv_sizes, hidden_sizes, input_shape)\n",
    "    if do_regression:\n",
    "        model.add(Dense(num_outputs))\n",
    "        model.compile(loss='mean_squared_error', optimizer=optimizer)\n",
    "    else:\n",
    "        model.add(Dense(num_outputs, activation='softmax'))\n",
    "        model.compile(loss='categorical_crossentropy',\n",
    "                  optimizer=optimizer,\n",
    "                  metrics=['accuracy'])\n",
    "\n",
    "    return model\n"
   ]
  },
  {
   "cell_type": "code",
   "execution_count": 19,
   "metadata": {
    "colab": {
     "autoexec": {
      "startup": false,
      "wait_interval": 0
     }
    },
    "colab_type": "code",
    "id": "S4EgZQce6NYB"
   },
   "outputs": [],
   "source": [
    "def get_fc_data():\n",
    "    ''' \n",
    "    assume data is of the form:\n",
    "    each row of X is [x1, x2, a, b] where c = a+bi and x1, x2 are the mapped point \n",
    "    Y is a vector with 0/1 values that represent if that particular pixel location + c-value diverge or not\n",
    "    '''\n",
    "    X = np.load('X.npy')\n",
    "    Y = np.load('Y.npy')\n",
    "    Y = to_categorical(Y)\n",
    "    X_train, X_test, y_train, y_test = train_test_split(X, Y, test_size=0.33, random_state=42)\n",
    "    return X_train, X_test, y_train, y_test\n"
   ]
  },
  {
   "cell_type": "code",
   "execution_count": 20,
   "metadata": {},
   "outputs": [],
   "source": [
    "def subSample(anArray, reductionFactor,shouldDraw=False):\n",
    "    #Note that reductionFactor is a float between 0 and 1\n",
    "    #Also note reductionFactor is per dimension (so for us, the true size reduction is\n",
    "    #   reductionFactor squared)\n",
    "    xSamples = np.linspace(0,255,int(255*reductionFactor),dtype=int)\n",
    "    ySamples = np.linspace(0,383,int(383*reductionFactor),dtype=int)\n",
    "    ans = anArray[np.ix_(xSamples, ySamples)]\n",
    "    if shouldDraw:\n",
    "        plt.figure()\n",
    "        plt.imshow(ans, cmap=\"gray\")\n",
    "        plt.figure()\n",
    "        plt.imshow(anArray, cmap=\"gray\")\n",
    "    return ans"
   ]
  },
  {
   "cell_type": "code",
   "execution_count": 21,
   "metadata": {
    "colab": {
     "autoexec": {
      "startup": false,
      "wait_interval": 0
     }
    },
    "colab_type": "code",
    "id": "wPq8J2jFAOEy"
   },
   "outputs": [],
   "source": [
    "def get_conv_data():\n",
    "    Y = np.load('C_values.npy')#batch size by 2 matrix\n",
    "    reduction_factor = 1\n",
    "    img_shape = [int(256*reduction_factor), int(384*reduction_factor)]\n",
    "    X = np.zeros((Y.shape[0], *img_shape))#images\n",
    "    base = 'data/julia'\n",
    "    for i in range(Y.shape[0]):\n",
    "        img = np.load(base+str(i)+'.npy')\n",
    "#         img = subSample(img, reduction_factor)\n",
    "        X[i] = img\n",
    "    X = np.reshape(X, (*X.shape, 1))\n",
    "    X_train, X_test, y_train, y_test = train_test_split(X, Y, test_size=0.33, random_state=42)\n",
    "    return X_train, X_test, y_train, y_test, img_shape"
   ]
  },
  {
   "cell_type": "code",
   "execution_count": 22,
   "metadata": {},
   "outputs": [],
   "source": [
    "def f(z, c):   #iterating function\n",
    "    return z * z + c\n",
    "def does_diverge(z, c, iters):  #checks if a given pixel diverges\n",
    "#     iters = 3\n",
    "    for _ in range(iters):\n",
    "        z = f(z, c)\n",
    "        if abs(z) > 2: # Diverges\n",
    "            return 1\n",
    "    return 0\n",
    "def generate_julia_set(size, c=False, iterations=50):\n",
    "    x = np.linspace(-2, 2, size * 3)\n",
    "    y = np.linspace(-1, 1, size * 2)\n",
    "    X = np.array(list(itertools.product(y, x)))[:, (1, 0)]\n",
    "    if not c:\n",
    "        output = np.array([does_diverge(complex(*sample), complex(*sample), iterations) for sample in X])\n",
    "    else:\n",
    "        output = np.array([does_diverge(complex(*sample), c, iterations) for sample in X])\n",
    "    return X, output.reshape((size * 2, size * 3)) #image format"
   ]
  },
  {
   "cell_type": "code",
   "execution_count": 23,
   "metadata": {
    "colab": {
     "autoexec": {
      "startup": false,
      "wait_interval": 0
     },
     "base_uri": "https://localhost:8080/",
     "height": 163
    },
    "colab_type": "code",
    "executionInfo": {
     "elapsed": 473,
     "status": "error",
     "timestamp": 1524426672353,
     "user": {
      "displayName": "Murtaza Dalal",
      "photoUrl": "//lh5.googleusercontent.com/-XZQvrfHXH6o/AAAAAAAAAAI/AAAAAAAAAkc/Ylh6EjWrAb4/s50-c-k-no/photo.jpg",
      "userId": "108106563031028622506"
     },
     "user_tz": 420
    },
    "id": "XSF32NuV8_Eo",
    "outputId": "712834fc-a185-4b71-8ec6-c0b220f4d5ed"
   },
   "outputs": [],
   "source": [
    "Xtrain_fc, Xtest_fc, ytrain_fc, ytest_fc = get_fc_data()"
   ]
  },
  {
   "cell_type": "code",
   "execution_count": 100,
   "metadata": {
    "scrolled": true
   },
   "outputs": [
    {
     "name": "stdout",
     "output_type": "stream",
     "text": [
      "Train on 3529624 samples, validate on 882406 samples\n",
      "Epoch 1/10\n",
      "3529624/3529624 [==============================] - 12s 3us/step - loss: 0.1340 - acc: 0.9394 - val_loss: 0.0952 - val_acc: 0.9584\n",
      "Epoch 2/10\n",
      "3529624/3529624 [==============================] - 12s 3us/step - loss: 0.0897 - acc: 0.9605 - val_loss: 0.0856 - val_acc: 0.9626\n",
      "Epoch 3/10\n",
      "3529624/3529624 [==============================] - 12s 3us/step - loss: 0.0842 - acc: 0.9628 - val_loss: 0.0881 - val_acc: 0.9600\n",
      "Epoch 4/10\n",
      "3529624/3529624 [==============================] - 11s 3us/step - loss: 0.0809 - acc: 0.9643 - val_loss: 0.0807 - val_acc: 0.9644\n",
      "Epoch 5/10\n",
      "3529624/3529624 [==============================] - 12s 3us/step - loss: 0.0784 - acc: 0.9653 - val_loss: 0.0761 - val_acc: 0.9666\n",
      "Epoch 6/10\n",
      "3529624/3529624 [==============================] - 12s 3us/step - loss: 0.0764 - acc: 0.9661 - val_loss: 0.0774 - val_acc: 0.9662\n",
      "Epoch 7/10\n",
      "3529624/3529624 [==============================] - 12s 3us/step - loss: 0.0749 - acc: 0.9668 - val_loss: 0.0754 - val_acc: 0.9659\n",
      "Epoch 8/10\n",
      "3529624/3529624 [==============================] - 12s 3us/step - loss: 0.0733 - acc: 0.9675 - val_loss: 0.0735 - val_acc: 0.9680\n",
      "Epoch 9/10\n",
      "3529624/3529624 [==============================] - 12s 3us/step - loss: 0.0719 - acc: 0.9681 - val_loss: 0.0714 - val_acc: 0.9677\n",
      "Epoch 10/10\n",
      "3529624/3529624 [==============================] - 12s 3us/step - loss: 0.0707 - acc: 0.9686 - val_loss: 0.0687 - val_acc: 0.9695\n",
      "Train on 3529624 samples, validate on 882406 samples\n",
      "Epoch 1/10\n",
      "3529624/3529624 [==============================] - 14s 4us/step - loss: 0.1054 - acc: 0.9518 - val_loss: 0.0783 - val_acc: 0.9641\n",
      "Epoch 2/10\n",
      "3529624/3529624 [==============================] - 14s 4us/step - loss: 0.0739 - acc: 0.9665 - val_loss: 0.0691 - val_acc: 0.9684\n",
      "Epoch 3/10\n",
      "3529624/3529624 [==============================] - 13s 4us/step - loss: 0.0665 - acc: 0.9700 - val_loss: 0.0699 - val_acc: 0.9686\n",
      "Epoch 4/10\n",
      "3529624/3529624 [==============================] - 13s 4us/step - loss: 0.0631 - acc: 0.9715 - val_loss: 0.0612 - val_acc: 0.9728\n",
      "Epoch 5/10\n",
      "3529624/3529624 [==============================] - 14s 4us/step - loss: 0.0602 - acc: 0.9730 - val_loss: 0.0574 - val_acc: 0.9742\n",
      "Epoch 6/10\n",
      "3529624/3529624 [==============================] - 13s 4us/step - loss: 0.0584 - acc: 0.9738 - val_loss: 0.0571 - val_acc: 0.9742\n",
      "Epoch 7/10\n",
      "3529624/3529624 [==============================] - 13s 4us/step - loss: 0.0565 - acc: 0.9746 - val_loss: 0.0572 - val_acc: 0.9741\n",
      "Epoch 8/10\n",
      "3529624/3529624 [==============================] - 13s 4us/step - loss: 0.0550 - acc: 0.9752 - val_loss: 0.0542 - val_acc: 0.9757\n",
      "Epoch 9/10\n",
      "3529624/3529624 [==============================] - 14s 4us/step - loss: 0.0538 - acc: 0.9758 - val_loss: 0.0531 - val_acc: 0.9762\n",
      "Epoch 10/10\n",
      "3529624/3529624 [==============================] - 13s 4us/step - loss: 0.0528 - acc: 0.9763 - val_loss: 0.0536 - val_acc: 0.9758\n",
      "Train on 3529624 samples, validate on 882406 samples\n",
      "Epoch 1/10\n",
      "3529624/3529624 [==============================] - 16s 5us/step - loss: 0.0973 - acc: 0.9551 - val_loss: 0.0750 - val_acc: 0.9656\n",
      "Epoch 2/10\n",
      "3529624/3529624 [==============================] - 15s 4us/step - loss: 0.0684 - acc: 0.9690 - val_loss: 0.0632 - val_acc: 0.9713\n",
      "Epoch 3/10\n",
      "3529624/3529624 [==============================] - 16s 4us/step - loss: 0.0622 - acc: 0.9719 - val_loss: 0.0581 - val_acc: 0.9736\n",
      "Epoch 4/10\n",
      "3529624/3529624 [==============================] - 15s 4us/step - loss: 0.0589 - acc: 0.9734 - val_loss: 0.0651 - val_acc: 0.9714\n",
      "Epoch 5/10\n",
      "3529624/3529624 [==============================] - 15s 4us/step - loss: 0.0563 - acc: 0.9746 - val_loss: 0.0612 - val_acc: 0.9725\n",
      "Epoch 6/10\n",
      "3529624/3529624 [==============================] - 15s 4us/step - loss: 0.0542 - acc: 0.9756 - val_loss: 0.0518 - val_acc: 0.9766\n",
      "Epoch 7/10\n",
      "3529624/3529624 [==============================] - 15s 4us/step - loss: 0.0521 - acc: 0.9765 - val_loss: 0.0528 - val_acc: 0.9762\n",
      "Epoch 8/10\n",
      "3529624/3529624 [==============================] - 15s 4us/step - loss: 0.0507 - acc: 0.9772 - val_loss: 0.0502 - val_acc: 0.9772\n",
      "Epoch 9/10\n",
      "3529624/3529624 [==============================] - 15s 4us/step - loss: 0.0491 - acc: 0.9779 - val_loss: 0.0501 - val_acc: 0.9776\n",
      "Epoch 10/10\n",
      "3529624/3529624 [==============================] - 15s 4us/step - loss: 0.0481 - acc: 0.9783 - val_loss: 0.0493 - val_acc: 0.9776\n"
     ]
    }
   ],
   "source": [
    "#iterate through different architectures and train the models (classify a particular a \n",
    "# a particular point and c value as diverges/converges)\n",
    "fc_architectures = [[128, 64, 32], [512, 256, 128, 64, 32], [1024, 512, 256, 128, 64, 32]]\n",
    "histories = []\n",
    "batch_size = 2048\n",
    "num_epochs = 10\n",
    "for architecture in fc_architectures:\n",
    "    fc_model = create_network(architecture, 2, False, input_shape=[4])\n",
    "    hist = fc_model.fit(Xtrain_fc, ytrain_fc, batch_size=batch_size, shuffle=True, steps_per_epoch=None, epochs=num_epochs, validation_split=.2)\n",
    "    histories.append(hist)"
   ]
  },
  {
   "cell_type": "code",
   "execution_count": 115,
   "metadata": {},
   "outputs": [
    {
     "data": {
      "text/plain": [
       "<matplotlib.legend.Legend at 0x7fa9a80e0588>"
      ]
     },
     "execution_count": 115,
     "metadata": {},
     "output_type": "execute_result"
    },
    {
     "data": {
      "image/png": "[encoded data removed]",
      "text/plain": [
       "<matplotlib.figure.Figure at 0x7fa9a80e0cf8>"
      ]
     },
     "metadata": {},
     "output_type": "display_data"
    }
   ],
   "source": [
    "accuracies = [history.history['val_acc'] for history in histories]\n",
    "labels = ['Architecture 1', 'Architecture 2', 'Architecture 3']\n",
    "plt.title('Fully Connected Neural Networks: Predicting Divergences')\n",
    "plt.xlabel('Epochs')\n",
    "plt.ylabel('Accuracy')\n",
    "for i, accuracy in enumerate(accuracies):\n",
    "    plt.plot(accuracy, label=labels[i])\n",
    "plt.legend()"
   ]
  },
  {
   "cell_type": "code",
   "execution_count": 24,
   "metadata": {},
   "outputs": [],
   "source": [
    "Xtrain_conv, Xtest_conv, ytrain_conv, ytest_conv, input_shape = get_conv_data()"
   ]
  },
  {
   "cell_type": "code",
   "execution_count": 14,
   "metadata": {
    "scrolled": true
   },
   "outputs": [],
   "source": [
    "#iterate through different conv architectures and train the models to \n",
    "# regress an image onto a c-value\n",
    "conv_architectures = [\n",
    "    [[16, 3, 1], [32, 3, 2], [64, 3, 2], [64, 3, 2]],\n",
    "]\n",
    "fc_architectures = [ \n",
    "    [256, 128, 64, 32, 16]\n",
    "]\n",
    "y_scaling = 10"
   ]
  },
  {
   "cell_type": "code",
   "execution_count": 15,
   "metadata": {
    "scrolled": true
   },
   "outputs": [
    {
     "name": "stdout",
     "output_type": "stream",
     "text": [
      "Train on 965 samples, validate on 476 samples\n",
      "Epoch 1/20\n",
      "965/965 [==============================] - 9s 10ms/step - loss: 4.5680 - val_loss: 0.4529\n",
      "Epoch 2/20\n",
      "965/965 [==============================] - 8s 8ms/step - loss: 0.2403 - val_loss: 0.1186\n",
      "Epoch 3/20\n",
      "965/965 [==============================] - 8s 8ms/step - loss: 0.0766 - val_loss: 0.0557\n",
      "Epoch 4/20\n",
      "965/965 [==============================] - 8s 8ms/step - loss: 0.0462 - val_loss: 0.0445\n",
      "Epoch 5/20\n",
      "965/965 [==============================] - 8s 8ms/step - loss: 0.0374 - val_loss: 0.0310\n",
      "Epoch 6/20\n",
      "965/965 [==============================] - 8s 8ms/step - loss: 0.0206 - val_loss: 0.0206\n",
      "Epoch 7/20\n",
      "965/965 [==============================] - 8s 8ms/step - loss: 0.0087 - val_loss: 0.0148\n",
      "Epoch 8/20\n",
      "965/965 [==============================] - 8s 8ms/step - loss: 0.0111 - val_loss: 0.0138\n",
      "Epoch 9/20\n",
      "965/965 [==============================] - 8s 8ms/step - loss: 0.0164 - val_loss: 0.0325\n",
      "Epoch 10/20\n",
      "965/965 [==============================] - 8s 8ms/step - loss: 0.0587 - val_loss: 0.1147\n",
      "Epoch 11/20\n",
      "965/965 [==============================] - 8s 8ms/step - loss: 0.0583 - val_loss: 0.0582\n",
      "Epoch 12/20\n",
      "965/965 [==============================] - 8s 8ms/step - loss: 0.0388 - val_loss: 0.0364\n",
      "Epoch 13/20\n",
      "965/965 [==============================] - 8s 8ms/step - loss: 0.0233 - val_loss: 0.0183\n",
      "Epoch 14/20\n",
      "965/965 [==============================] - 8s 8ms/step - loss: 0.0123 - val_loss: 0.0174\n",
      "Epoch 15/20\n",
      "965/965 [==============================] - 8s 8ms/step - loss: 0.0065 - val_loss: 0.0272\n",
      "Epoch 16/20\n",
      "965/965 [==============================] - 9s 9ms/step - loss: 0.0493 - val_loss: 0.1178\n",
      "Epoch 17/20\n",
      "965/965 [==============================] - 9s 9ms/step - loss: 0.0616 - val_loss: 0.0290\n",
      "Epoch 18/20\n",
      "965/965 [==============================] - 9s 9ms/step - loss: 0.0319 - val_loss: 0.0155\n",
      "Epoch 19/20\n",
      "965/965 [==============================] - 9s 9ms/step - loss: 0.0127 - val_loss: 0.0110\n",
      "Epoch 20/20\n",
      "965/965 [==============================] - 9s 9ms/step - loss: 0.0206 - val_loss: 0.0213\n",
      "711/711 [==============================] - 2s 3ms/step\n",
      "0.0223805045397\n"
     ]
    }
   ],
   "source": [
    "batch_size = 16\n",
    "num_epochs = 20\n",
    "for conv_architecture in conv_architectures:\n",
    "    for fc_architecture in fc_architectures:\n",
    "        model = create_network(fc_architecture, 2, True, conv_sizes = conv_architecture, use_fc=False, input_shape=[*input_shape, 1])\n",
    "        hist = model.fit(Xtrain_conv, ytrain_conv*y_scaling, batch_size=batch_size, shuffle=True, steps_per_epoch=None, epochs=num_epochs, validation_split=.33)\n",
    "        print(model.evaluate(Xtest_conv, ytest_conv*y_scaling))"
   ]
  },
  {
   "cell_type": "code",
   "execution_count": 16,
   "metadata": {},
   "outputs": [
    {
     "name": "stdout",
     "output_type": "stream",
     "text": [
      "711/711 [==============================] - 1s 2ms/step\n",
      "0.0223805045397\n"
     ]
    }
   ],
   "source": [
    "print(model.evaluate(Xtest_conv, ytest_conv*y_scaling)) #see how well you did on the test set"
   ]
  },
  {
   "cell_type": "code",
   "execution_count": 24,
   "metadata": {
    "scrolled": true
   },
   "outputs": [
    {
     "data": {
      "image/png": "[encoded data removed]",
      "text/plain": [
       "<matplotlib.figure.Figure at 0x7faa2e27ef60>"
      ]
     },
     "metadata": {},
     "output_type": "display_data"
    },
    {
     "data": {
      "image/png": "[encoded data removed]",
      "text/plain": [
       "<matplotlib.figure.Figure at 0x7faa2de156d8>"
      ]
     },
     "metadata": {},
     "output_type": "display_data"
    },
    {
     "data": {
      "image/png": "[encoded data removed]",
      "text/plain": [
       "<matplotlib.figure.Figure at 0x7faa2e138a58>"
      ]
     },
     "metadata": {},
     "output_type": "display_data"
    },
    {
     "data": {
      "image/png": "[encoded data removed]",
      "text/plain": [
       "<matplotlib.figure.Figure at 0x7faa284ab6a0>"
      ]
     },
     "metadata": {},
     "output_type": "display_data"
    },
    {
     "data": {
      "image/png": "[encoded data removed]",
      "text/plain": [
       "<matplotlib.figure.Figure at 0x7faa285c06d8>"
      ]
     },
     "metadata": {},
     "output_type": "display_data"
    },
    {
     "data": {
      "image/png": "[encoded data removed]",
      "text/plain": [
       "<matplotlib.figure.Figure at 0x7faa16bebb70>"
      ]
     },
     "metadata": {},
     "output_type": "display_data"
    },
    {
     "data": {
      "image/png": "[encoded data removed]",
      "text/plain": [
       "<matplotlib.figure.Figure at 0x7faa040a8a20>"
      ]
     },
     "metadata": {},
     "output_type": "display_data"
    }
   ],
   "source": [
    "#Visualize the results of our model on the test set\n",
    "# we display the generated julia set from the predicted c-value and compare it\n",
    "# to the actual image that should have been generated \n",
    "test = [0, 12, 20, 48, 189, 420, 666]\n",
    "i = 1\n",
    "for example in test:\n",
    "    pred = model.predict(np.reshape(Xtest_conv[example], (1, *Xtest_conv[48].shape)))[0]/y_scaling\n",
    "    x, output_shape = generate_julia_set(128, pred[0] + pred[1]*1j)\n",
    "    \n",
    "    plt.figure()\n",
    "    plt.subplot(1, 2, 1)\n",
    "    plt.title('c-value: ' + str(pred[0])[:5] + ' + ' + str(pred[1])[:5] +'i')\n",
    "    plt.imshow(output_shape)\n",
    "    plt.subplot(1, 2, 2)\n",
    "    c = ytest_conv[example]\n",
    "    x, output_shape = generate_julia_set(128, c[0] + c[1]*1j)\n",
    "    plt.title('c-value: ' +str(c[0])[:5] + ' + '+ str(c[1])[:5] + 'i')\n",
    "    plt.imshow(output_shape)"
   ]
  },
  {
   "cell_type": "code",
   "execution_count": 45,
   "metadata": {},
   "outputs": [],
   "source": [
    "def autoencoder(conv_sizes, input_shape, hidden_sizes=[], latent_size=2, optimizer='adam'):\n",
    "    model = Sequential()\n",
    "    image_shape, extra_fc = down_conv(model, conv_sizes, input_shape, hidden_sizes, latent_size)\n",
    "    conv_sizes.reverse()\n",
    "    hidden_sizes.reverse()\n",
    "    up_conv(model, conv_sizes, hidden_sizes, latent_size, image_shape, extra_fc)\n",
    "    model.compile(loss='mean_squared_error', optimizer = optimizer)\n",
    "    return model"
   ]
  },
  {
   "cell_type": "code",
   "execution_count": 46,
   "metadata": {},
   "outputs": [],
   "source": [
    "def down_conv(model, conv_sizes, input_shape, hidden_sizes, latent_size):\n",
    "    count = 0\n",
    "    for size in conv_sizes:    \n",
    "        num_filters, kernel_size, pool_size = size\n",
    "        if count == 0:\n",
    "            model.add(Convolution2D(num_filters, kernel_size=(kernel_size, kernel_size), padding='same', activation='relu', input_shape=input_shape))\n",
    "            count+=1\n",
    "        else:\n",
    "            model.add(Convolution2D(num_filters, kernel_size=(kernel_size, kernel_size), padding='same', activation='relu'))\n",
    "        model.add(MaxPooling2D(pool_size=(pool_size, pool_size)))\n",
    "    image_shape = model.output_shape\n",
    "    model.add(Flatten())\n",
    "    extra_fc = model.output_shape\n",
    "    create_feedforward_network(model, hidden_sizes)\n",
    "    model.add(Dense(latent_size, activation='relu')) #here add penalty to make similar to c \n",
    "    return image_shape[1:], extra_fc[1:][0]"
   ]
  },
  {
   "cell_type": "code",
   "execution_count": 47,
   "metadata": {},
   "outputs": [],
   "source": [
    "def up_conv(model, conv_sizes, hidden_sizes, latent_size, image_shape, extra_fc):\n",
    "    hidden_sizes = [latent_size] + hidden_sizes + [extra_fc]\n",
    "    create_feedforward_network(model, hidden_sizes)\n",
    "    model.add(Reshape(image_shape))  \n",
    "    for size in conv_sizes:\n",
    "        num_filters, kernel_size, up_size = size\n",
    "        model.add(UpSampling2D(size=(up_size, up_size)))\n",
    "        model.add(Convolution2D(num_filters, kernel_size=(kernel_size, kernel_size), padding='same', activation='relu'))\n",
    "    model.add(Convolution2D(1, kernel_size=(3, 3), padding='same', activation='relu'))"
   ]
  },
  {
   "cell_type": "code",
   "execution_count": 48,
   "metadata": {
    "scrolled": false
   },
   "outputs": [],
   "source": [
    "#create a convolutional auto-encoder with the specified latent size \n",
    "conv_sizes = [[16, 3, 2], [32, 3, 2], [64, 3, 2], [64, 3, 2]]\n",
    "hidden_sizes=[512, 256, 64]\n",
    "latent_size=2\n",
    "model = autoencoder(conv_sizes, [*input_shape, 1], latent_size=latent_size)"
   ]
  },
  {
   "cell_type": "code",
   "execution_count": 49,
   "metadata": {},
   "outputs": [],
   "source": [
    "batch_size=32\n",
    "num_epochs =100"
   ]
  },
  {
   "cell_type": "code",
   "execution_count": 50,
   "metadata": {
    "scrolled": true
   },
   "outputs": [
    {
     "name": "stdout",
     "output_type": "stream",
     "text": [
      "Train on 1152 samples, validate on 289 samples\n",
      "Epoch 1/100\n",
      "1152/1152 [==============================] - 14s 12ms/step - loss: 0.4796 - val_loss: 0.3201\n",
      "Epoch 2/100\n",
      "1152/1152 [==============================] - 12s 11ms/step - loss: 0.3131 - val_loss: 0.3104\n",
      "Epoch 3/100\n",
      "1152/1152 [==============================] - 12s 10ms/step - loss: 0.3088 - val_loss: 0.3083\n",
      "Epoch 4/100\n",
      "1152/1152 [==============================] - 12s 10ms/step - loss: 0.3083 - val_loss: 0.3074\n",
      "Epoch 5/100\n",
      "1152/1152 [==============================] - 12s 10ms/step - loss: 0.3070 - val_loss: 0.3077\n",
      "Epoch 6/100\n",
      "1152/1152 [==============================] - 11s 10ms/step - loss: 0.3070 - val_loss: 0.3063\n",
      "Epoch 7/100\n",
      "1152/1152 [==============================] - 11s 10ms/step - loss: 0.3067 - val_loss: 0.3060\n",
      "Epoch 8/100\n",
      "1152/1152 [==============================] - 11s 10ms/step - loss: 0.3071 - val_loss: 0.3068\n",
      "Epoch 9/100\n",
      "1152/1152 [==============================] - 12s 10ms/step - loss: 0.3075 - val_loss: 0.3079\n",
      "Epoch 10/100\n",
      "1152/1152 [==============================] - 12s 10ms/step - loss: 0.3069 - val_loss: 0.3069\n",
      "Epoch 11/100\n",
      "1152/1152 [==============================] - 12s 10ms/step - loss: 0.3060 - val_loss: 0.3061\n",
      "Epoch 12/100\n",
      "1152/1152 [==============================] - 12s 10ms/step - loss: 0.3064 - val_loss: 0.3061\n",
      "Epoch 13/100\n",
      "1152/1152 [==============================] - 12s 10ms/step - loss: 0.3071 - val_loss: 0.3069\n",
      "Epoch 14/100\n",
      "1152/1152 [==============================] - 11s 10ms/step - loss: 0.3071 - val_loss: 0.3076\n",
      "Epoch 15/100\n",
      "1152/1152 [==============================] - 11s 10ms/step - loss: 0.3063 - val_loss: 0.3059\n",
      "Epoch 16/100\n",
      "1152/1152 [==============================] - 12s 10ms/step - loss: 0.3077 - val_loss: 0.3058\n",
      "Epoch 17/100\n",
      "1152/1152 [==============================] - 12s 10ms/step - loss: 0.3061 - val_loss: 0.3059\n",
      "Epoch 18/100\n",
      "1152/1152 [==============================] - 12s 10ms/step - loss: 0.3070 - val_loss: 0.3070\n",
      "Epoch 19/100\n",
      "1152/1152 [==============================] - 12s 10ms/step - loss: 0.3073 - val_loss: 0.3062\n",
      "Epoch 20/100\n",
      "1152/1152 [==============================] - 11s 10ms/step - loss: 0.3067 - val_loss: 0.3067\n",
      "Epoch 21/100\n",
      "1152/1152 [==============================] - 11s 10ms/step - loss: 0.3060 - val_loss: 0.3062\n",
      "Epoch 22/100\n",
      "1152/1152 [==============================] - 12s 10ms/step - loss: 0.3061 - val_loss: 0.3061\n",
      "Epoch 23/100\n",
      "1152/1152 [==============================] - 12s 10ms/step - loss: 0.3064 - val_loss: 0.3064\n",
      "Epoch 24/100\n",
      "1152/1152 [==============================] - 12s 10ms/step - loss: 0.3065 - val_loss: 0.3063\n",
      "Epoch 25/100\n",
      "1152/1152 [==============================] - 12s 10ms/step - loss: 0.3070 - val_loss: 0.3064\n",
      "Epoch 26/100\n",
      "1152/1152 [==============================] - 11s 10ms/step - loss: 0.3074 - val_loss: 0.3061\n",
      "Epoch 27/100\n",
      "1152/1152 [==============================] - 11s 10ms/step - loss: 0.3067 - val_loss: 0.3066\n",
      "Epoch 28/100\n",
      "1152/1152 [==============================] - 11s 10ms/step - loss: 0.3060 - val_loss: 0.3059\n",
      "Epoch 29/100\n",
      "1152/1152 [==============================] - 12s 10ms/step - loss: 0.3069 - val_loss: 0.3059\n",
      "Epoch 30/100\n",
      "1152/1152 [==============================] - 12s 10ms/step - loss: 0.3058 - val_loss: 0.3066\n",
      "Epoch 31/100\n",
      "1152/1152 [==============================] - 12s 10ms/step - loss: 0.3066 - val_loss: 0.3062\n",
      "Epoch 32/100\n",
      "1152/1152 [==============================] - 11s 10ms/step - loss: 0.3066 - val_loss: 0.3060\n",
      "Epoch 33/100\n",
      "1152/1152 [==============================] - 11s 10ms/step - loss: 0.3082 - val_loss: 0.3065\n",
      "Epoch 34/100\n",
      "1152/1152 [==============================] - 11s 10ms/step - loss: 0.3061 - val_loss: 0.3077\n",
      "Epoch 35/100\n",
      "1152/1152 [==============================] - 12s 10ms/step - loss: 0.3070 - val_loss: 0.3063\n",
      "Epoch 36/100\n",
      "1152/1152 [==============================] - 11s 10ms/step - loss: 0.3063 - val_loss: 0.3066\n",
      "Epoch 37/100\n",
      "1152/1152 [==============================] - 12s 10ms/step - loss: 0.3068 - val_loss: 0.3071\n",
      "Epoch 38/100\n",
      "1152/1152 [==============================] - 12s 10ms/step - loss: 0.3067 - val_loss: 0.3063\n",
      "Epoch 39/100\n",
      "1152/1152 [==============================] - 11s 10ms/step - loss: 0.3058 - val_loss: 0.3068\n",
      "Epoch 40/100\n",
      "1152/1152 [==============================] - 11s 10ms/step - loss: 0.3071 - val_loss: 0.3068\n",
      "Epoch 41/100\n",
      "1152/1152 [==============================] - 11s 10ms/step - loss: 0.3073 - val_loss: 0.3069\n",
      "Epoch 42/100\n",
      "1152/1152 [==============================] - 11s 10ms/step - loss: 0.3068 - val_loss: 0.3065\n",
      "Epoch 43/100\n",
      "1152/1152 [==============================] - 11s 10ms/step - loss: 0.3063 - val_loss: 0.3073\n",
      "Epoch 44/100\n",
      "1152/1152 [==============================] - 11s 10ms/step - loss: 0.3070 - val_loss: 0.3059\n",
      "Epoch 45/100\n",
      "1152/1152 [==============================] - 11s 10ms/step - loss: 0.3061 - val_loss: 0.3059\n",
      "Epoch 46/100\n",
      "1152/1152 [==============================] - 11s 10ms/step - loss: 0.3061 - val_loss: 0.3070\n",
      "Epoch 47/100\n",
      "1152/1152 [==============================] - 11s 10ms/step - loss: 0.3068 - val_loss: 0.3065\n",
      "Epoch 48/100\n",
      "1152/1152 [==============================] - 11s 10ms/step - loss: 0.3068 - val_loss: 0.3078\n",
      "Epoch 49/100\n",
      "1152/1152 [==============================] - 11s 10ms/step - loss: 0.3065 - val_loss: 0.3060\n",
      "Epoch 50/100\n",
      "1152/1152 [==============================] - 11s 10ms/step - loss: 0.3067 - val_loss: 0.3070\n",
      "Epoch 51/100\n",
      "1152/1152 [==============================] - 11s 10ms/step - loss: 0.3063 - val_loss: 0.3075\n",
      "Epoch 52/100\n",
      "1152/1152 [==============================] - 11s 10ms/step - loss: 0.3059 - val_loss: 0.3081\n",
      "Epoch 53/100\n",
      "1152/1152 [==============================] - 11s 10ms/step - loss: 0.3058 - val_loss: 0.3059\n",
      "Epoch 54/100\n",
      "1152/1152 [==============================] - 11s 10ms/step - loss: 0.3062 - val_loss: 0.3059\n",
      "Epoch 55/100\n",
      "1152/1152 [==============================] - 11s 10ms/step - loss: 0.3069 - val_loss: 0.3068\n",
      "Epoch 56/100\n",
      "1152/1152 [==============================] - 11s 10ms/step - loss: 0.3060 - val_loss: 0.3060\n",
      "Epoch 57/100\n",
      "1152/1152 [==============================] - 11s 10ms/step - loss: 0.3061 - val_loss: 0.3061\n",
      "Epoch 58/100\n",
      "1152/1152 [==============================] - 11s 10ms/step - loss: 0.3061 - val_loss: 0.3061\n",
      "Epoch 59/100\n",
      "1152/1152 [==============================] - 11s 10ms/step - loss: 0.3064 - val_loss: 0.3059\n",
      "Epoch 60/100\n",
      "1024/1152 [=========================>....] - ETA: 1s - loss: 0.3071"
     ]
    },
    {
     "ename": "KeyboardInterrupt",
     "evalue": "",
     "output_type": "error",
     "traceback": [
      "\u001b[0;31m---------------------------------------------------------------------------\u001b[0m",
      "\u001b[0;31mKeyboardInterrupt\u001b[0m                         Traceback (most recent call last)",
      "\u001b[0;32m<ipython-input-50-b98972535a1a>\u001b[0m in \u001b[0;36m<module>\u001b[0;34m()\u001b[0m\n\u001b[0;32m----> 1\u001b[0;31m \u001b[0mmodel\u001b[0m\u001b[0;34m.\u001b[0m\u001b[0mfit\u001b[0m\u001b[0;34m(\u001b[0m\u001b[0mXtrain_conv\u001b[0m\u001b[0;34m,\u001b[0m \u001b[0mXtrain_conv\u001b[0m\u001b[0;34m,\u001b[0m \u001b[0mbatch_size\u001b[0m\u001b[0;34m=\u001b[0m\u001b[0mbatch_size\u001b[0m\u001b[0;34m,\u001b[0m \u001b[0mshuffle\u001b[0m\u001b[0;34m=\u001b[0m\u001b[0;32mTrue\u001b[0m\u001b[0;34m,\u001b[0m \u001b[0msteps_per_epoch\u001b[0m\u001b[0;34m=\u001b[0m\u001b[0;32mNone\u001b[0m\u001b[0;34m,\u001b[0m \u001b[0mepochs\u001b[0m\u001b[0;34m=\u001b[0m\u001b[0mnum_epochs\u001b[0m\u001b[0;34m,\u001b[0m \u001b[0mvalidation_split\u001b[0m\u001b[0;34m=\u001b[0m\u001b[0;36m.2\u001b[0m\u001b[0;34m)\u001b[0m\u001b[0;34m\u001b[0m\u001b[0m\n\u001b[0m",
      "\u001b[0;32m~/anaconda2/envs/railrl-tf1/lib/python3.5/site-packages/keras/models.py\u001b[0m in \u001b[0;36mfit\u001b[0;34m(self, x, y, batch_size, epochs, verbose, callbacks, validation_split, validation_data, shuffle, class_weight, sample_weight, initial_epoch, steps_per_epoch, validation_steps, **kwargs)\u001b[0m\n\u001b[1;32m    958\u001b[0m                               \u001b[0minitial_epoch\u001b[0m\u001b[0;34m=\u001b[0m\u001b[0minitial_epoch\u001b[0m\u001b[0;34m,\u001b[0m\u001b[0;34m\u001b[0m\u001b[0m\n\u001b[1;32m    959\u001b[0m                               \u001b[0msteps_per_epoch\u001b[0m\u001b[0;34m=\u001b[0m\u001b[0msteps_per_epoch\u001b[0m\u001b[0;34m,\u001b[0m\u001b[0;34m\u001b[0m\u001b[0m\n\u001b[0;32m--> 960\u001b[0;31m                               validation_steps=validation_steps)\n\u001b[0m\u001b[1;32m    961\u001b[0m \u001b[0;34m\u001b[0m\u001b[0m\n\u001b[1;32m    962\u001b[0m     def evaluate(self, x, y, batch_size=32, verbose=1,\n",
      "\u001b[0;32m~/anaconda2/envs/railrl-tf1/lib/python3.5/site-packages/keras/engine/training.py\u001b[0m in \u001b[0;36mfit\u001b[0;34m(self, x, y, batch_size, epochs, verbose, callbacks, validation_split, validation_data, shuffle, class_weight, sample_weight, initial_epoch, steps_per_epoch, validation_steps, **kwargs)\u001b[0m\n\u001b[1;32m   1648\u001b[0m                               \u001b[0minitial_epoch\u001b[0m\u001b[0;34m=\u001b[0m\u001b[0minitial_epoch\u001b[0m\u001b[0;34m,\u001b[0m\u001b[0;34m\u001b[0m\u001b[0m\n\u001b[1;32m   1649\u001b[0m                               \u001b[0msteps_per_epoch\u001b[0m\u001b[0;34m=\u001b[0m\u001b[0msteps_per_epoch\u001b[0m\u001b[0;34m,\u001b[0m\u001b[0;34m\u001b[0m\u001b[0m\n\u001b[0;32m-> 1650\u001b[0;31m                               validation_steps=validation_steps)\n\u001b[0m\u001b[1;32m   1651\u001b[0m \u001b[0;34m\u001b[0m\u001b[0m\n\u001b[1;32m   1652\u001b[0m     def evaluate(self, x=None, y=None,\n",
      "\u001b[0;32m~/anaconda2/envs/railrl-tf1/lib/python3.5/site-packages/keras/engine/training.py\u001b[0m in \u001b[0;36m_fit_loop\u001b[0;34m(self, f, ins, out_labels, batch_size, epochs, verbose, callbacks, val_f, val_ins, shuffle, callback_metrics, initial_epoch, steps_per_epoch, validation_steps)\u001b[0m\n\u001b[1;32m   1211\u001b[0m                     \u001b[0mbatch_logs\u001b[0m\u001b[0;34m[\u001b[0m\u001b[0;34m'size'\u001b[0m\u001b[0;34m]\u001b[0m \u001b[0;34m=\u001b[0m \u001b[0mlen\u001b[0m\u001b[0;34m(\u001b[0m\u001b[0mbatch_ids\u001b[0m\u001b[0;34m)\u001b[0m\u001b[0;34m\u001b[0m\u001b[0m\n\u001b[1;32m   1212\u001b[0m                     \u001b[0mcallbacks\u001b[0m\u001b[0;34m.\u001b[0m\u001b[0mon_batch_begin\u001b[0m\u001b[0;34m(\u001b[0m\u001b[0mbatch_index\u001b[0m\u001b[0;34m,\u001b[0m \u001b[0mbatch_logs\u001b[0m\u001b[0;34m)\u001b[0m\u001b[0;34m\u001b[0m\u001b[0m\n\u001b[0;32m-> 1213\u001b[0;31m                     \u001b[0mouts\u001b[0m \u001b[0;34m=\u001b[0m \u001b[0mf\u001b[0m\u001b[0;34m(\u001b[0m\u001b[0mins_batch\u001b[0m\u001b[0;34m)\u001b[0m\u001b[0;34m\u001b[0m\u001b[0m\n\u001b[0m\u001b[1;32m   1214\u001b[0m                     \u001b[0;32mif\u001b[0m \u001b[0;32mnot\u001b[0m \u001b[0misinstance\u001b[0m\u001b[0;34m(\u001b[0m\u001b[0mouts\u001b[0m\u001b[0;34m,\u001b[0m \u001b[0mlist\u001b[0m\u001b[0;34m)\u001b[0m\u001b[0;34m:\u001b[0m\u001b[0;34m\u001b[0m\u001b[0m\n\u001b[1;32m   1215\u001b[0m                         \u001b[0mouts\u001b[0m \u001b[0;34m=\u001b[0m \u001b[0;34m[\u001b[0m\u001b[0mouts\u001b[0m\u001b[0;34m]\u001b[0m\u001b[0;34m\u001b[0m\u001b[0m\n",
      "\u001b[0;32m~/anaconda2/envs/railrl-tf1/lib/python3.5/site-packages/keras/backend/tensorflow_backend.py\u001b[0m in \u001b[0;36m__call__\u001b[0;34m(self, inputs)\u001b[0m\n\u001b[1;32m   2350\u001b[0m         \u001b[0msession\u001b[0m \u001b[0;34m=\u001b[0m \u001b[0mget_session\u001b[0m\u001b[0;34m(\u001b[0m\u001b[0;34m)\u001b[0m\u001b[0;34m\u001b[0m\u001b[0m\n\u001b[1;32m   2351\u001b[0m         updated = session.run(fetches=fetches, feed_dict=feed_dict,\n\u001b[0;32m-> 2352\u001b[0;31m                               **self.session_kwargs)\n\u001b[0m\u001b[1;32m   2353\u001b[0m         \u001b[0;32mreturn\u001b[0m \u001b[0mupdated\u001b[0m\u001b[0;34m[\u001b[0m\u001b[0;34m:\u001b[0m\u001b[0mlen\u001b[0m\u001b[0;34m(\u001b[0m\u001b[0mself\u001b[0m\u001b[0;34m.\u001b[0m\u001b[0moutputs\u001b[0m\u001b[0;34m)\u001b[0m\u001b[0;34m]\u001b[0m\u001b[0;34m\u001b[0m\u001b[0m\n\u001b[1;32m   2354\u001b[0m \u001b[0;34m\u001b[0m\u001b[0m\n",
      "\u001b[0;32m~/anaconda2/envs/railrl-tf1/lib/python3.5/site-packages/tensorflow/python/client/session.py\u001b[0m in \u001b[0;36mrun\u001b[0;34m(self, fetches, feed_dict, options, run_metadata)\u001b[0m\n\u001b[1;32m    887\u001b[0m     \u001b[0;32mtry\u001b[0m\u001b[0;34m:\u001b[0m\u001b[0;34m\u001b[0m\u001b[0m\n\u001b[1;32m    888\u001b[0m       result = self._run(None, fetches, feed_dict, options_ptr,\n\u001b[0;32m--> 889\u001b[0;31m                          run_metadata_ptr)\n\u001b[0m\u001b[1;32m    890\u001b[0m       \u001b[0;32mif\u001b[0m \u001b[0mrun_metadata\u001b[0m\u001b[0;34m:\u001b[0m\u001b[0;34m\u001b[0m\u001b[0m\n\u001b[1;32m    891\u001b[0m         \u001b[0mproto_data\u001b[0m \u001b[0;34m=\u001b[0m \u001b[0mtf_session\u001b[0m\u001b[0;34m.\u001b[0m\u001b[0mTF_GetBuffer\u001b[0m\u001b[0;34m(\u001b[0m\u001b[0mrun_metadata_ptr\u001b[0m\u001b[0;34m)\u001b[0m\u001b[0;34m\u001b[0m\u001b[0m\n",
      "\u001b[0;32m~/anaconda2/envs/railrl-tf1/lib/python3.5/site-packages/tensorflow/python/client/session.py\u001b[0m in \u001b[0;36m_run\u001b[0;34m(self, handle, fetches, feed_dict, options, run_metadata)\u001b[0m\n\u001b[1;32m   1118\u001b[0m     \u001b[0;32mif\u001b[0m \u001b[0mfinal_fetches\u001b[0m \u001b[0;32mor\u001b[0m \u001b[0mfinal_targets\u001b[0m \u001b[0;32mor\u001b[0m \u001b[0;34m(\u001b[0m\u001b[0mhandle\u001b[0m \u001b[0;32mand\u001b[0m \u001b[0mfeed_dict_tensor\u001b[0m\u001b[0;34m)\u001b[0m\u001b[0;34m:\u001b[0m\u001b[0;34m\u001b[0m\u001b[0m\n\u001b[1;32m   1119\u001b[0m       results = self._do_run(handle, final_targets, final_fetches,\n\u001b[0;32m-> 1120\u001b[0;31m                              feed_dict_tensor, options, run_metadata)\n\u001b[0m\u001b[1;32m   1121\u001b[0m     \u001b[0;32melse\u001b[0m\u001b[0;34m:\u001b[0m\u001b[0;34m\u001b[0m\u001b[0m\n\u001b[1;32m   1122\u001b[0m       \u001b[0mresults\u001b[0m \u001b[0;34m=\u001b[0m \u001b[0;34m[\u001b[0m\u001b[0;34m]\u001b[0m\u001b[0;34m\u001b[0m\u001b[0m\n",
      "\u001b[0;32m~/anaconda2/envs/railrl-tf1/lib/python3.5/site-packages/tensorflow/python/client/session.py\u001b[0m in \u001b[0;36m_do_run\u001b[0;34m(self, handle, target_list, fetch_list, feed_dict, options, run_metadata)\u001b[0m\n\u001b[1;32m   1315\u001b[0m     \u001b[0;32mif\u001b[0m \u001b[0mhandle\u001b[0m \u001b[0;32mis\u001b[0m \u001b[0;32mNone\u001b[0m\u001b[0;34m:\u001b[0m\u001b[0;34m\u001b[0m\u001b[0m\n\u001b[1;32m   1316\u001b[0m       return self._do_call(_run_fn, self._session, feeds, fetches, targets,\n\u001b[0;32m-> 1317\u001b[0;31m                            options, run_metadata)\n\u001b[0m\u001b[1;32m   1318\u001b[0m     \u001b[0;32melse\u001b[0m\u001b[0;34m:\u001b[0m\u001b[0;34m\u001b[0m\u001b[0m\n\u001b[1;32m   1319\u001b[0m       \u001b[0;32mreturn\u001b[0m \u001b[0mself\u001b[0m\u001b[0;34m.\u001b[0m\u001b[0m_do_call\u001b[0m\u001b[0;34m(\u001b[0m\u001b[0m_prun_fn\u001b[0m\u001b[0;34m,\u001b[0m \u001b[0mself\u001b[0m\u001b[0;34m.\u001b[0m\u001b[0m_session\u001b[0m\u001b[0;34m,\u001b[0m \u001b[0mhandle\u001b[0m\u001b[0;34m,\u001b[0m \u001b[0mfeeds\u001b[0m\u001b[0;34m,\u001b[0m \u001b[0mfetches\u001b[0m\u001b[0;34m)\u001b[0m\u001b[0;34m\u001b[0m\u001b[0m\n",
      "\u001b[0;32m~/anaconda2/envs/railrl-tf1/lib/python3.5/site-packages/tensorflow/python/client/session.py\u001b[0m in \u001b[0;36m_do_call\u001b[0;34m(self, fn, *args)\u001b[0m\n\u001b[1;32m   1321\u001b[0m   \u001b[0;32mdef\u001b[0m \u001b[0m_do_call\u001b[0m\u001b[0;34m(\u001b[0m\u001b[0mself\u001b[0m\u001b[0;34m,\u001b[0m \u001b[0mfn\u001b[0m\u001b[0;34m,\u001b[0m \u001b[0;34m*\u001b[0m\u001b[0margs\u001b[0m\u001b[0;34m)\u001b[0m\u001b[0;34m:\u001b[0m\u001b[0;34m\u001b[0m\u001b[0m\n\u001b[1;32m   1322\u001b[0m     \u001b[0;32mtry\u001b[0m\u001b[0;34m:\u001b[0m\u001b[0;34m\u001b[0m\u001b[0m\n\u001b[0;32m-> 1323\u001b[0;31m       \u001b[0;32mreturn\u001b[0m \u001b[0mfn\u001b[0m\u001b[0;34m(\u001b[0m\u001b[0;34m*\u001b[0m\u001b[0margs\u001b[0m\u001b[0;34m)\u001b[0m\u001b[0;34m\u001b[0m\u001b[0m\n\u001b[0m\u001b[1;32m   1324\u001b[0m     \u001b[0;32mexcept\u001b[0m \u001b[0merrors\u001b[0m\u001b[0;34m.\u001b[0m\u001b[0mOpError\u001b[0m \u001b[0;32mas\u001b[0m \u001b[0me\u001b[0m\u001b[0;34m:\u001b[0m\u001b[0;34m\u001b[0m\u001b[0m\n\u001b[1;32m   1325\u001b[0m       \u001b[0mmessage\u001b[0m \u001b[0;34m=\u001b[0m \u001b[0mcompat\u001b[0m\u001b[0;34m.\u001b[0m\u001b[0mas_text\u001b[0m\u001b[0;34m(\u001b[0m\u001b[0me\u001b[0m\u001b[0;34m.\u001b[0m\u001b[0mmessage\u001b[0m\u001b[0;34m)\u001b[0m\u001b[0;34m\u001b[0m\u001b[0m\n",
      "\u001b[0;32m~/anaconda2/envs/railrl-tf1/lib/python3.5/site-packages/tensorflow/python/client/session.py\u001b[0m in \u001b[0;36m_run_fn\u001b[0;34m(session, feed_dict, fetch_list, target_list, options, run_metadata)\u001b[0m\n\u001b[1;32m   1300\u001b[0m           return tf_session.TF_Run(session, options,\n\u001b[1;32m   1301\u001b[0m                                    \u001b[0mfeed_dict\u001b[0m\u001b[0;34m,\u001b[0m \u001b[0mfetch_list\u001b[0m\u001b[0;34m,\u001b[0m \u001b[0mtarget_list\u001b[0m\u001b[0;34m,\u001b[0m\u001b[0;34m\u001b[0m\u001b[0m\n\u001b[0;32m-> 1302\u001b[0;31m                                    status, run_metadata)\n\u001b[0m\u001b[1;32m   1303\u001b[0m \u001b[0;34m\u001b[0m\u001b[0m\n\u001b[1;32m   1304\u001b[0m     \u001b[0;32mdef\u001b[0m \u001b[0m_prun_fn\u001b[0m\u001b[0;34m(\u001b[0m\u001b[0msession\u001b[0m\u001b[0;34m,\u001b[0m \u001b[0mhandle\u001b[0m\u001b[0;34m,\u001b[0m \u001b[0mfeed_dict\u001b[0m\u001b[0;34m,\u001b[0m \u001b[0mfetch_list\u001b[0m\u001b[0;34m)\u001b[0m\u001b[0;34m:\u001b[0m\u001b[0;34m\u001b[0m\u001b[0m\n",
      "\u001b[0;31mKeyboardInterrupt\u001b[0m: "
     ]
    }
   ],
   "source": [
    "model.fit(Xtrain_conv, Xtrain_conv, batch_size=batch_size, shuffle=True, steps_per_epoch=None, epochs=num_epochs, validation_split=.2)"
   ]
  },
  {
   "cell_type": "code",
   "execution_count": 51,
   "metadata": {},
   "outputs": [
    {
     "name": "stdout",
     "output_type": "stream",
     "text": [
      "711/711 [==============================] - 2s 3ms/step\n"
     ]
    },
    {
     "data": {
      "text/plain": [
       "0.30519340129676581"
      ]
     },
     "execution_count": 51,
     "metadata": {},
     "output_type": "execute_result"
    }
   ],
   "source": [
    "model.evaluate(Xtest_conv, Xtest_conv)"
   ]
  },
  {
   "cell_type": "code",
   "execution_count": 25,
   "metadata": {},
   "outputs": [],
   "source": [
    "model = load_model('autoencoder_latent_size2.h5')"
   ]
  },
  {
   "cell_type": "code",
   "execution_count": 26,
   "metadata": {},
   "outputs": [],
   "source": [
    "layer_name = 'dense_2'\n",
    "ilm = keras.Model(inputs=model.input, outputs=model.get_layer(layer_name).output)"
   ]
  },
  {
   "cell_type": "code",
   "execution_count": 27,
   "metadata": {},
   "outputs": [],
   "source": [
    "a = ilm.predict(np.reshape(Xtest_conv[0], (1, *Xtest_conv[0].shape)))[0]\n",
    "ilm.compile(loss='mean_squared_error', optimizer='adam')\n",
    "ilm.evaluate(Xtest_conv, ytest_conv) #see how well the latent layer is able to capture the c-value\n"
   ]
  },
  {
   "cell_type": "code",
   "execution_count": 32,
   "metadata": {
    "scrolled": true
   },
   "outputs": [
    {
     "data": {
      "image/png": "[encoded data removed]",
      "text/plain": [
       "<matplotlib.figure.Figure at 0x7fdc7437a240>"
      ]
     },
     "metadata": {},
     "output_type": "display_data"
    },
    {
     "data": {
      "image/png": "[encoded data removed]",
      "text/plain": [
       "<matplotlib.figure.Figure at 0x7fdc5008af28>"
      ]
     },
     "metadata": {},
     "output_type": "display_data"
    },
    {
     "data": {
      "image/png": "[encoded data removed]",
      "text/plain": [
       "<matplotlib.figure.Figure at 0x7fdc403fa940>"
      ]
     },
     "metadata": {},
     "output_type": "display_data"
    },
    {
     "data": {
      "image/png": "[encoded data removed]",
      "text/plain": [
       "<matplotlib.figure.Figure at 0x7fdc4826bf60>"
      ]
     },
     "metadata": {},
     "output_type": "display_data"
    },
    {
     "data": {
      "image/png": "[encoded data removed]",
      "text/plain": [
       "<matplotlib.figure.Figure at 0x7fdc48215b70>"
      ]
     },
     "metadata": {},
     "output_type": "display_data"
    },
    {
     "data": {
      "image/png": "[encoded data removed]",
      "text/plain": [
       "<matplotlib.figure.Figure at 0x7fdc402f5630>"
      ]
     },
     "metadata": {},
     "output_type": "display_data"
    },
    {
     "data": {
      "image/png": "[encoded data removed]",
      "text/plain": [
       "<matplotlib.figure.Figure at 0x7fdc48183fd0>"
      ]
     },
     "metadata": {},
     "output_type": "display_data"
    }
   ],
   "source": [
    "#visualize the direct auto-encoder predictions by running the autoencoder on the input\n",
    "#images and then binarizing the output\n",
    "test = [0, 12, 20, 48, 189, 420, 666]\n",
    "i = 1\n",
    "for example in test:\n",
    "    pred = np.reshape(model.predict(np.reshape(Xtest_conv[example], (1, *Xtest_conv[48].shape))), (256, 384)) \n",
    "    test_output = np.where(pred>=.5, 1, 0)\n",
    "    test_output = np.reshape(test_output, (256, 384))\n",
    "    plt.figure()\n",
    "    plt.subplot(1, 2, 1)\n",
    "    plt.title('AutoEncoder Prediction')\n",
    "    plt.imshow(test_output)\n",
    "    plt.subplot(1, 2, 2)\n",
    "    c = ytest_conv[example]\n",
    "    x, output_shape = generate_julia_set(128, c[0] + c[1]*1j)\n",
    "    plt.title('c-value: ' +str(c[0])[:5] + ' + '+ str(c[1])[:5] + 'i')\n",
    "    plt.imshow(output_shape)"
   ]
  },
  {
   "cell_type": "code",
   "execution_count": null,
   "metadata": {},
   "outputs": [],
   "source": []
  }
 ],
 "metadata": {
  "colab": {
   "collapsed_sections": [],
   "default_view": {},
   "name": "NeuralNets.ipynb",
   "provenance": [],
   "version": "0.3.2",
   "views": {}
  },
  "kernelspec": {
   "display_name": "Python 3",
   "language": "python",
   "name": "python3"
  },
  "language_info": {
   "codemirror_mode": {
    "name": "ipython",
    "version": 3
   },
   "file_extension": ".py",
   "mimetype": "text/x-python",
   "name": "python",
   "nbconvert_exporter": "python",
   "pygments_lexer": "ipython3",
   "version": "3.5.2"
  }
 },
 "nbformat": 4,
 "nbformat_minor": 1
}
