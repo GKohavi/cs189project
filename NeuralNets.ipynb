{
 "cells": [
  {
   "cell_type": "code",
   "execution_count": 1,
   "metadata": {
    "colab": {
     "autoexec": {
      "startup": false,
      "wait_interval": 0
     },
     "base_uri": "https://localhost:8080/",
     "height": 34
    },
    "colab_type": "code",
    "executionInfo": {
     "elapsed": 2163,
     "status": "ok",
     "timestamp": 1524683510046,
     "user": {
      "displayName": "Murtaza Dalal",
      "photoUrl": "//lh5.googleusercontent.com/-XZQvrfHXH6o/AAAAAAAAAAI/AAAAAAAAAkc/Ylh6EjWrAb4/s50-c-k-no/photo.jpg",
      "userId": "108106563031028622506"
     },
     "user_tz": 420
    },
    "id": "dDqDKZe-jkbC",
    "outputId": "9ea177bb-05ee-4e91-c18e-4582d8e5814a"
   },
   "outputs": [
    {
     "name": "stderr",
     "output_type": "stream",
     "text": [
      "Using TensorFlow backend.\n"
     ]
    }
   ],
   "source": [
    "import keras \n",
    "from keras.layers import Dense\n",
    "from keras.models import Sequential\n",
    "from keras.layers import Dense, Dropout, Activation, Flatten\n",
    "from keras.layers import Convolution2D, MaxPooling2D\n",
    "from keras.utils import to_categorical\n",
    "from keras.wrappers.scikit_learn import KerasClassifier\n",
    "from sklearn.model_selection import cross_val_score\n",
    "from sklearn.model_selection import KFold\n",
    "from sklearn.model_selection import StratifiedKFold\n",
    "from sklearn.model_selection import train_test_split\n",
    "from sklearn.metrics import accuracy_score\n",
    "from sklearn.metrics import mean_squared_error\n",
    "from sklearn.metrics import make_scorer\n",
    "import io\n",
    "import numpy as np\n",
    "import matplotlib.pyplot as plt\n",
    "%matplotlib inline"
   ]
  },
  {
   "cell_type": "code",
   "execution_count": 2,
   "metadata": {
    "colab": {
     "autoexec": {
      "startup": false,
      "wait_interval": 0
     }
    },
    "colab_type": "code",
    "id": "75kH5df96rFP"
   },
   "outputs": [],
   "source": [
    "np.random.seed(420) "
   ]
  },
  {
   "cell_type": "code",
   "execution_count": 3,
   "metadata": {
    "colab": {
     "autoexec": {
      "startup": false,
      "wait_interval": 0
     }
    },
    "colab_type": "code",
    "id": "GLpwpJoG2DP-"
   },
   "outputs": [],
   "source": [
    "def create_feedforward_network(model, hidden_sizes, input_shape):\n",
    "    count = 0\n",
    "    for size in hidden_sizes:\n",
    "        if count == 0:\n",
    "            model.add(Dense(size, activation='relu', input_shape=input_shape))\n",
    "            count+=1\n",
    "        else:\n",
    "            model.add(Dense(size, activation='relu'))"
   ]
  },
  {
   "cell_type": "code",
   "execution_count": 4,
   "metadata": {
    "colab": {
     "autoexec": {
      "startup": false,
      "wait_interval": 0
     }
    },
    "colab_type": "code",
    "id": "Kz3G7NTO5rKq"
   },
   "outputs": [],
   "source": [
    "def create_convolutional_network(model, conv_sizes, fc_sizes, input_shape):\n",
    "    #structure: conv, conv, pool, dropout, and so on\n",
    "    count = 0\n",
    "    for size in hidden_sizes:\n",
    "        num_filters, kernel_size, stride = size[0]\n",
    "        if count == 0:\n",
    "            model.add(Convolution2D(num_filters, kernel_size=(kernel_size, kernel_size), strides = (stride, strides), padding='same', activation='relu', input_shape=input_shape))\n",
    "            count+=1\n",
    "        else:\n",
    "            model.add(Convolution2D(num_filters, kernel_size=(kernel_size, kernel_size), strides = (stride, strides), padding='same', activation='relu'))\n",
    "        num_filters, kernel_size, stride = size[1]\n",
    "        model.add(Convolution2D(num_filters, kernel_size=(kernel_size, kernel_size), strides = (stride, strides), padding='same', activation='relu'))\n",
    "        pool_size, stride = size[2]\n",
    "        model.add(MaxPooling2D(pool_size=(pool_size, pool_size), strides=(stride, stride)))\n",
    "        droput_prob = size[3]\n",
    "        model.add(Dropout(dropout_prob))\n",
    "\n",
    "    model.add(Flatten())    \n",
    "    create_feedforward_network(model, fc_sizes)\n",
    "    return model"
   ]
  },
  {
   "cell_type": "code",
   "execution_count": 5,
   "metadata": {
    "colab": {
     "autoexec": {
      "startup": false,
      "wait_interval": 0
     }
    },
    "colab_type": "code",
    "id": "G1m0E6kP2XZm"
   },
   "outputs": [],
   "source": [
    "def create_network(hidden_sizes, num_outputs, do_regression, use_fc=True, conv_sizes=None, input_shape=None, optimizer='adam'):\n",
    "    model = Sequential()\n",
    "    if use_fc:\n",
    "        create_feedforward_network(model, hidden_sizes, input_shape)\n",
    "    else:\n",
    "        create_convolutional_network(model, conv_sizes, input_shape, hidden_sizes)\n",
    "    if do_regression:\n",
    "        model.add(Dense(num_outputs))\n",
    "        model.compile(loss='mean_squared_error', optimizer=optimizer)\n",
    "    else:\n",
    "        model.add(Dense(num_outputs, activation='softmax'))\n",
    "        model.compile(loss='categorical_crossentropy',\n",
    "                  optimizer=optimizer,\n",
    "                  metrics=['accuracy'])\n",
    "\n",
    "    return model\n"
   ]
  },
  {
   "cell_type": "code",
   "execution_count": 7,
   "metadata": {
    "colab": {
     "autoexec": {
      "startup": false,
      "wait_interval": 0
     }
    },
    "colab_type": "code",
    "id": "S4EgZQce6NYB"
   },
   "outputs": [],
   "source": [
    "def get_fc_data():\n",
    "    ''' \n",
    "    assume data is of the form:\n",
    "    each row of X is [x1, x2, a, b] where c = a+bi and x1, x2 are the mapped point \n",
    "    Y is a vector with c values that correspond to the rows of X\n",
    "    '''\n",
    "    X = np.load('X.npy')\n",
    "    Y = np.load('Y.npy')\n",
    "    Y = to_categorical(Y)\n",
    "    X_train, X_test, y_train, y_test = train_test_split(X, Y, test_size=0.33, random_state=42)\n",
    "    return X_train, X_test, y_train, y_test\n"
   ]
  },
  {
   "cell_type": "code",
   "execution_count": 8,
   "metadata": {
    "colab": {
     "autoexec": {
      "startup": false,
      "wait_interval": 0
     }
    },
    "colab_type": "code",
    "id": "wPq8J2jFAOEy"
   },
   "outputs": [],
   "source": [
    "def get_conv_data():\n",
    "    Y = np.load('c')#batch size by 2 matrix\n",
    "    X = np.zeros((Y.shape[0], 512, 512, 1))#images\n",
    "    base = 'data/julia'\n",
    "    for i in range(Y.shape[0]):\n",
    "        img = np.load(base+str(i)+'.npy')\n",
    "        X[i] = img\n",
    "    X_train, X_test, y_train, y_test = train_test_split(X, Y, test_size=0.33, random_state=42)\n",
    "    return X_train, X_test, y_train, y_test"
   ]
  },
  {
   "cell_type": "code",
   "execution_count": 9,
   "metadata": {
    "colab": {
     "autoexec": {
      "startup": false,
      "wait_interval": 0
     }
    },
    "colab_type": "code",
    "id": "E0H9KnCa6taJ"
   },
   "outputs": [],
   "source": [
    "def cross_val(model, X, y, num_folds, classification=False, fit_params=dict()):\n",
    "    if classification:\n",
    "        kfold = StratifiedKFold(n_splits=num_folds, random_state=None, shuffle=True)\n",
    "        scorer = accuracy_score\n",
    "    else:\n",
    "        kfold = KFold(n_splits=num_folds, random_state=None, shuffle=True)\n",
    "        scorer = mean_squared_error\n",
    "    return cross_val_score(model, X, y, cv=kfold, scoring=make_scorer(scorer), fit_params=fit_params)"
   ]
  },
  {
   "cell_type": "code",
   "execution_count": 10,
   "metadata": {
    "colab": {
     "autoexec": {
      "startup": false,
      "wait_interval": 0
     },
     "base_uri": "https://localhost:8080/",
     "height": 163
    },
    "colab_type": "code",
    "executionInfo": {
     "elapsed": 473,
     "status": "error",
     "timestamp": 1524426672353,
     "user": {
      "displayName": "Murtaza Dalal",
      "photoUrl": "//lh5.googleusercontent.com/-XZQvrfHXH6o/AAAAAAAAAAI/AAAAAAAAAkc/Ylh6EjWrAb4/s50-c-k-no/photo.jpg",
      "userId": "108106563031028622506"
     },
     "user_tz": 420
    },
    "id": "XSF32NuV8_Eo",
    "outputId": "712834fc-a185-4b71-8ec6-c0b220f4d5ed"
   },
   "outputs": [],
   "source": [
    "#for fully connected neural net training data set: each row of x is [x1, x2, a, b] where c = a+bi and x1, x2 are the mapped point \n",
    "Xtrain_fc, Xtest_fc, ytrain_fc, ytest_fc = get_fc_data()\n",
    "fc_model = create_network([512, 256, 128], 2, False, input_shape=[4])"
   ]
  },
  {
   "cell_type": "code",
   "execution_count": 11,
   "metadata": {
    "scrolled": false
   },
   "outputs": [
    {
     "name": "stdout",
     "output_type": "stream",
     "text": [
      "Epoch 1/10\n",
      "4412030/4412030 [==============================] - 15s 3us/step - loss: 0.1038 - acc: 0.9532\n",
      "Epoch 2/10\n",
      "4412030/4412030 [==============================] - 14s 3us/step - loss: 0.0764 - acc: 0.9657\n",
      "Epoch 3/10\n",
      "4412030/4412030 [==============================] - 14s 3us/step - loss: 0.0692 - acc: 0.9689\n",
      "Epoch 4/10\n",
      "4412030/4412030 [==============================] - 14s 3us/step - loss: 0.0649 - acc: 0.9711\n",
      "Epoch 5/10\n",
      "4412030/4412030 [==============================] - 14s 3us/step - loss: 0.0624 - acc: 0.9720\n",
      "Epoch 6/10\n",
      "4412030/4412030 [==============================] - 14s 3us/step - loss: 0.0597 - acc: 0.9733\n",
      "Epoch 7/10\n",
      "4412030/4412030 [==============================] - 14s 3us/step - loss: 0.0578 - acc: 0.9741\n",
      "Epoch 8/10\n",
      "4412030/4412030 [==============================] - 14s 3us/step - loss: 0.0564 - acc: 0.9747\n",
      "Epoch 9/10\n",
      "4412030/4412030 [==============================] - 14s 3us/step - loss: 0.0548 - acc: 0.9754\n",
      "Epoch 10/10\n",
      "4412030/4412030 [==============================] - 14s 3us/step - loss: 0.0538 - acc: 0.9760\n"
     ]
    },
    {
     "data": {
      "text/plain": [
       "<keras.callbacks.History at 0x7f21c48a1780>"
      ]
     },
     "execution_count": 11,
     "metadata": {},
     "output_type": "execute_result"
    }
   ],
   "source": [
    "fc_model.fit(Xtrain_fc, ytrain_fc, batch_size=2048, shuffle=True, steps_per_epoch=None, epochs=10)"
   ]
  },
  {
   "cell_type": "code",
   "execution_count": 12,
   "metadata": {},
   "outputs": [
    {
     "name": "stdout",
     "output_type": "stream",
     "text": [
      "2173090/2173090 [==============================] - 104s 48us/step\n"
     ]
    },
    {
     "data": {
      "text/plain": [
       "[0.052116959238146382, 0.97657345070843826]"
      ]
     },
     "execution_count": 12,
     "metadata": {},
     "output_type": "execute_result"
    }
   ],
   "source": [
    "fc_model.evaluate(Xtest_fc, ytest_fc)"
   ]
  },
  {
   "cell_type": "code",
   "execution_count": null,
   "metadata": {},
   "outputs": [],
   "source": [
    "fit_params={'batch_size':2048, 'shuffle':True, steps_per_epoch=None, epochs=10}"
   ]
  },
  {
   "cell_type": "code",
   "execution_count": null,
   "metadata": {},
   "outputs": [],
   "source": [
    "X = np.load('basic_data/X.npy')\n",
    "Y = np.load('basic_data/Y.npy')\n",
    "X_train, X_test, y_train, y_test = train_test_split(X, Y, test_size=0.33, random_state=42)\n",
    "y_test.shape"
   ]
  },
  {
   "cell_type": "code",
   "execution_count": null,
   "metadata": {
    "colab": {
     "autoexec": {
      "startup": false,
      "wait_interval": 0
     }
    },
    "colab_type": "code",
    "id": "XhcxUGIb4LJo"
   },
   "outputs": [],
   "source": [
    "#TODOS:\n",
    "'''\n",
    "make auto encoder architectures, figure out math for predicting latents (VAE style?)\n",
    "\n",
    "\n",
    "'''"
   ]
  },
  {
   "cell_type": "code",
   "execution_count": 14,
   "metadata": {},
   "outputs": [],
   "source": [
    "with open('data/meta/cvalues.txt') as f:\n",
    "    content = f.readlines()\n",
    "# you may also want to remove whitespace characters like `\\n` at the end of each line\n",
    "content = [x.strip() for x in content] "
   ]
  },
  {
   "cell_type": "code",
   "execution_count": null,
   "metadata": {},
   "outputs": [],
   "source": [
    "def autoencoder(down_conv_sizes, up_conv_sizes, optimizer='adam'):"
   ]
  }
 ],
 "metadata": {
  "colab": {
   "collapsed_sections": [],
   "default_view": {},
   "name": "NeuralNets.ipynb",
   "provenance": [],
   "version": "0.3.2",
   "views": {}
  },
  "kernelspec": {
   "display_name": "Python 3",
   "language": "python",
   "name": "python3"
  },
  "language_info": {
   "codemirror_mode": {
    "name": "ipython",
    "version": 3
   },
   "file_extension": ".py",
   "mimetype": "text/x-python",
   "name": "python",
   "nbconvert_exporter": "python",
   "pygments_lexer": "ipython3",
   "version": "3.5.2"
  }
 },
 "nbformat": 4,
 "nbformat_minor": 1
}
