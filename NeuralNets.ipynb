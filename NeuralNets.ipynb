{
 "cells": [
  {
   "cell_type": "code",
   "execution_count": 24,
   "metadata": {
    "colab": {
     "autoexec": {
      "startup": false,
      "wait_interval": 0
     },
     "base_uri": "https://localhost:8080/",
     "height": 34
    },
    "colab_type": "code",
    "executionInfo": {
     "elapsed": 2163,
     "status": "ok",
     "timestamp": 1524683510046,
     "user": {
      "displayName": "Murtaza Dalal",
      "photoUrl": "//lh5.googleusercontent.com/-XZQvrfHXH6o/AAAAAAAAAAI/AAAAAAAAAkc/Ylh6EjWrAb4/s50-c-k-no/photo.jpg",
      "userId": "108106563031028622506"
     },
     "user_tz": 420
    },
    "id": "dDqDKZe-jkbC",
    "outputId": "9ea177bb-05ee-4e91-c18e-4582d8e5814a"
   },
   "outputs": [],
   "source": [
    "import keras \n",
    "from keras.layers import Dense\n",
    "from keras.models import Sequential\n",
    "from keras.layers import Dense, Dropout, Activation, Flatten, Reshape\n",
    "from keras.layers import Convolution2D, MaxPooling2D, UpSampling2D\n",
    "from keras.utils import to_categorical\n",
    "from keras.models import load_model\n",
    "from keras.wrappers.scikit_learn import KerasClassifier\n",
    "from sklearn.model_selection import cross_val_score\n",
    "from sklearn.model_selection import KFold\n",
    "from sklearn.model_selection import StratifiedKFold\n",
    "from sklearn.model_selection import train_test_split\n",
    "from sklearn.metrics import accuracy_score\n",
    "from sklearn.metrics import mean_squared_error\n",
    "from sklearn.metrics import make_scorer\n",
    "import itertools\n",
    "import io\n",
    "import numpy as np\n",
    "import matplotlib.pyplot as plt\n",
    "%matplotlib inline"
   ]
  },
  {
   "cell_type": "code",
   "execution_count": 2,
   "metadata": {
    "colab": {
     "autoexec": {
      "startup": false,
      "wait_interval": 0
     }
    },
    "colab_type": "code",
    "id": "75kH5df96rFP"
   },
   "outputs": [],
   "source": [
    "np.random.seed(420) "
   ]
  },
  {
   "cell_type": "code",
   "execution_count": 3,
   "metadata": {
    "colab": {
     "autoexec": {
      "startup": false,
      "wait_interval": 0
     }
    },
    "colab_type": "code",
    "id": "GLpwpJoG2DP-"
   },
   "outputs": [],
   "source": [
    "def create_feedforward_network(model, hidden_sizes, input_shape=None):\n",
    "    count = 0\n",
    "    for size in hidden_sizes:\n",
    "        if count == 0 and input_shape is not None:\n",
    "            model.add(Dense(size, activation='relu', input_shape=input_shape))\n",
    "            count+=1\n",
    "        else:\n",
    "            model.add(Dense(size, activation='relu'))"
   ]
  },
  {
   "cell_type": "code",
   "execution_count": 4,
   "metadata": {
    "colab": {
     "autoexec": {
      "startup": false,
      "wait_interval": 0
     }
    },
    "colab_type": "code",
    "id": "Kz3G7NTO5rKq"
   },
   "outputs": [],
   "source": [
    "def create_convolutional_network(model, conv_sizes, fc_sizes, input_shape):\n",
    "    #structure: conv, pool, conv, pool and so on \n",
    "    count = 0\n",
    "    for size in conv_sizes:    \n",
    "        num_filters, kernel_size, pool_size = size\n",
    "        if count == 0:\n",
    "            model.add(Convolution2D(num_filters, kernel_size=(kernel_size, kernel_size), padding='same', activation='relu', input_shape=input_shape))\n",
    "            count+=1\n",
    "        else:\n",
    "            model.add(Convolution2D(num_filters, kernel_size=(kernel_size, kernel_size), padding='same', activation='relu'))\n",
    "        model.add(MaxPooling2D(pool_size=(pool_size, pool_size)))\n",
    "    model.add(Flatten())\n",
    "    create_feedforward_network(model, fc_sizes)"
   ]
  },
  {
   "cell_type": "code",
   "execution_count": 5,
   "metadata": {
    "colab": {
     "autoexec": {
      "startup": false,
      "wait_interval": 0
     }
    },
    "colab_type": "code",
    "id": "G1m0E6kP2XZm"
   },
   "outputs": [],
   "source": [
    "def create_network(hidden_sizes, num_outputs, do_regression, use_fc=True, conv_sizes=None, input_shape=None, optimizer='adam'):\n",
    "    model = Sequential()\n",
    "    if use_fc:\n",
    "        create_feedforward_network(model, hidden_sizes, input_shape)\n",
    "    else:\n",
    "        create_convolutional_network(model, conv_sizes, hidden_sizes, input_shape)\n",
    "    if do_regression:\n",
    "        model.add(Dense(num_outputs))\n",
    "        model.compile(loss='mean_squared_error', optimizer=optimizer)\n",
    "    else:\n",
    "        model.add(Dense(num_outputs, activation='softmax'))\n",
    "        model.compile(loss='categorical_crossentropy',\n",
    "                  optimizer=optimizer,\n",
    "                  metrics=['accuracy'])\n",
    "\n",
    "    return model\n"
   ]
  },
  {
   "cell_type": "code",
   "execution_count": 6,
   "metadata": {
    "colab": {
     "autoexec": {
      "startup": false,
      "wait_interval": 0
     }
    },
    "colab_type": "code",
    "id": "S4EgZQce6NYB"
   },
   "outputs": [],
   "source": [
    "def get_fc_data():\n",
    "    ''' \n",
    "    assume data is of the form:\n",
    "    each row of X is [x1, x2, a, b] where c = a+bi and x1, x2 are the mapped point \n",
    "    Y is a vector with 0/1 values that represent if that particular pixel location + c-value diverge or not\n",
    "    '''\n",
    "    X = np.load('X.npy')\n",
    "    Y = np.load('Y.npy')\n",
    "    Y = to_categorical(Y)\n",
    "    X_train, X_test, y_train, y_test = train_test_split(X, Y, test_size=0.33, random_state=42)\n",
    "    return X_train, X_test, y_train, y_test\n"
   ]
  },
  {
   "cell_type": "code",
   "execution_count": 7,
   "metadata": {},
   "outputs": [],
   "source": [
    "def subSample(anArray, reductionFactor,shouldDraw=False):\n",
    "    #Note that reductionFactor is a float between 0 and 1\n",
    "    #Also note reductionFactor is per dimension (so for us, the true size reduction is\n",
    "    #   reductionFactor squared)\n",
    "    xSamples = np.linspace(0,255,int(255*reductionFactor),dtype=int)\n",
    "    ySamples = np.linspace(0,383,int(383*reductionFactor),dtype=int)\n",
    "    ans = anArray[np.ix_(xSamples, ySamples)]\n",
    "    if shouldDraw:\n",
    "        plt.figure()\n",
    "        plt.imshow(ans, cmap=\"gray\")\n",
    "        plt.figure()\n",
    "        plt.imshow(anArray, cmap=\"gray\")\n",
    "    return ans"
   ]
  },
  {
   "cell_type": "code",
   "execution_count": 8,
   "metadata": {
    "colab": {
     "autoexec": {
      "startup": false,
      "wait_interval": 0
     }
    },
    "colab_type": "code",
    "id": "wPq8J2jFAOEy"
   },
   "outputs": [],
   "source": [
    "def get_conv_data():\n",
    "    Y = np.load('C_values.npy')#batch size by 2 matrix\n",
    "    reduction_factor = 1\n",
    "    img_shape = [int(256*reduction_factor), int(384*reduction_factor)]\n",
    "    X = np.zeros((Y.shape[0], *img_shape))#images\n",
    "    base = 'data/julia'\n",
    "    for i in range(Y.shape[0]):\n",
    "        img = np.load(base+str(i)+'.npy')\n",
    "#         img = subSample(img, reduction_factor)\n",
    "        X[i] = img\n",
    "    X = np.reshape(X, (*X.shape, 1))\n",
    "    X_train, X_test, y_train, y_test = train_test_split(X, Y, test_size=0.33, random_state=42)\n",
    "    return X_train, X_test, y_train, y_test, img_shape"
   ]
  },
  {
   "cell_type": "code",
   "execution_count": 9,
   "metadata": {
    "colab": {
     "autoexec": {
      "startup": false,
      "wait_interval": 0
     }
    },
    "colab_type": "code",
    "id": "E0H9KnCa6taJ"
   },
   "outputs": [],
   "source": [
    "def cross_val(model, X, y, num_folds, classification=False, fit_params=dict()):\n",
    "    if classification:\n",
    "        kfold = StratifiedKFold(n_splits=num_folds, random_state=None, shuffle=True)\n",
    "        scorer = accuracy_score\n",
    "    else:\n",
    "        kfold = KFold(n_splits=num_folds, random_state=None, shuffle=True)\n",
    "        scorer = mean_squared_error\n",
    "    return cross_val_score(model, X, y, cv=kfold, scoring=make_scorer(scorer), fit_params=fit_params)"
   ]
  },
  {
   "cell_type": "code",
   "execution_count": 10,
   "metadata": {},
   "outputs": [],
   "source": [
    "def f(z, c):   #iterating function\n",
    "    return z * z + c\n",
    "def does_diverge(z, c, iters):  #checks if a given pixel diverges\n",
    "#     iters = 3\n",
    "    for _ in range(iters):\n",
    "        z = f(z, c)\n",
    "        if abs(z) > 2: # Diverges\n",
    "            return 1\n",
    "    return 0\n",
    "def generate_julia_set(size, c=False, iterations=50):\n",
    "    x = np.linspace(-2, 2, size * 3)\n",
    "    y = np.linspace(-1, 1, size * 2)\n",
    "    X = np.array(list(itertools.product(y, x)))[:, (1, 0)]\n",
    "    if not c:\n",
    "        output = np.array([does_diverge(complex(*sample), complex(*sample), iterations) for sample in X])\n",
    "    else:\n",
    "        output = np.array([does_diverge(complex(*sample), c, iterations) for sample in X])\n",
    "    return X, output.reshape((size * 2, size * 3)) #image format"
   ]
  },
  {
   "cell_type": "code",
   "execution_count": 11,
   "metadata": {
    "colab": {
     "autoexec": {
      "startup": false,
      "wait_interval": 0
     },
     "base_uri": "https://localhost:8080/",
     "height": 163
    },
    "colab_type": "code",
    "executionInfo": {
     "elapsed": 473,
     "status": "error",
     "timestamp": 1524426672353,
     "user": {
      "displayName": "Murtaza Dalal",
      "photoUrl": "//lh5.googleusercontent.com/-XZQvrfHXH6o/AAAAAAAAAAI/AAAAAAAAAkc/Ylh6EjWrAb4/s50-c-k-no/photo.jpg",
      "userId": "108106563031028622506"
     },
     "user_tz": 420
    },
    "id": "XSF32NuV8_Eo",
    "outputId": "712834fc-a185-4b71-8ec6-c0b220f4d5ed"
   },
   "outputs": [],
   "source": [
    "Xtrain_fc, Xtest_fc, ytrain_fc, ytest_fc = get_fc_data()"
   ]
  },
  {
   "cell_type": "code",
   "execution_count": null,
   "metadata": {
    "scrolled": true
   },
   "outputs": [],
   "source": [
    "# fc_architectures = [[128, 64, 32], [512, 256, 128, 64, 32], [1024, 512, 256, 128, 64, 32]]\n",
    "# histories = []\n",
    "# batch_size = 2048\n",
    "# num_epochs = 100\n",
    "# for architecture in fc_architectures:\n",
    "#     fc_model = create_network(architecture, 2, False, input_shape=[4])\n",
    "#     hist = fc_model.fit(Xtrain_fc, ytrain_fc, batch_size=batch_size, shuffle=True, steps_per_epoch=None, epochs=num_epochs, validation_split=.33)\n",
    "#     histories.append(hist)"
   ]
  },
  {
   "cell_type": "code",
   "execution_count": 12,
   "metadata": {},
   "outputs": [],
   "source": [
    "Xtrain_conv, Xtest_conv, ytrain_conv, ytest_conv, input_shape = get_conv_data()"
   ]
  },
  {
   "cell_type": "code",
   "execution_count": null,
   "metadata": {
    "scrolled": true
   },
   "outputs": [],
   "source": [
    "conv_architectures = [\n",
    "#     [[64, 3, 2], [64, 3, 2], [64, 3, 2]],\n",
    "    [[16, 3, 1], [32, 3, 2], [64, 3, 2], [64, 3, 2]],\n",
    "]\n",
    "fc_architectures = [ \n",
    "    [256, 128, 64, 32, 16]\n",
    "]\n",
    "y_scaling = 10"
   ]
  },
  {
   "cell_type": "code",
   "execution_count": null,
   "metadata": {
    "scrolled": false
   },
   "outputs": [],
   "source": [
    "batch_size = 16\n",
    "num_epochs = 20\n",
    "for conv_architecture in conv_architectures:\n",
    "    for fc_architecture in fc_architectures:\n",
    "        model = create_network(fc_architecture, 2, True, conv_sizes = conv_architecture, use_fc=False, input_shape=[*input_shape, 1])\n",
    "        hist = model.fit(Xtrain_conv, ytrain_conv*y_scaling, batch_size=batch_size, shuffle=True, steps_per_epoch=None, epochs=num_epochs, validation_split=.33)\n",
    "        print(model.evaluate(Xtest_conv, ytest_conv*y_scaling))"
   ]
  },
  {
   "cell_type": "code",
   "execution_count": null,
   "metadata": {},
   "outputs": [],
   "source": [
    "print(model.evaluate(Xtest_conv, ytest_conv*y_scaling))"
   ]
  },
  {
   "cell_type": "code",
   "execution_count": null,
   "metadata": {},
   "outputs": [],
   "source": [
    "example = 20\n",
    "pred = model.predict(np.reshape(Xtest_conv[example], (1, *Xtest_conv[48].shape)))[0]/y_scaling\n",
    "x, output_shape = generate_julia_set(128, pred[0] + pred[1]*1j)\n",
    "plt.imshow(output_shape)"
   ]
  },
  {
   "cell_type": "code",
   "execution_count": null,
   "metadata": {},
   "outputs": [],
   "source": [
    "c = ytest_conv[example]\n",
    "x, output_shape = generate_julia_set(128, c[0] + c[1]*1j)\n",
    "plt.imshow(output_shape)"
   ]
  },
  {
   "cell_type": "code",
   "execution_count": 34,
   "metadata": {},
   "outputs": [],
   "source": [
    "del model #to save your gpu memory :) "
   ]
  },
  {
   "cell_type": "code",
   "execution_count": 35,
   "metadata": {},
   "outputs": [],
   "source": [
    "def autoencoder(conv_sizes, input_shape, hidden_sizes=[], latent_size=2, optimizer='adam'):\n",
    "    model = Sequential()\n",
    "    image_shape, extra_fc = down_conv(model, conv_sizes, input_shape, hidden_sizes, latent_size)\n",
    "    conv_sizes.reverse()\n",
    "    hidden_sizes.reverse()\n",
    "    up_conv(model, conv_sizes, hidden_sizes, latent_size, image_shape, extra_fc)\n",
    "    model.compile(loss='mean_squared_error', optimizer = optimizer)\n",
    "    return model"
   ]
  },
  {
   "cell_type": "code",
   "execution_count": 36,
   "metadata": {},
   "outputs": [],
   "source": [
    "def down_conv(model, conv_sizes, input_shape, hidden_sizes, latent_size):\n",
    "    count = 0\n",
    "    for size in conv_sizes:    \n",
    "        num_filters, kernel_size, pool_size = size\n",
    "        if count == 0:\n",
    "            model.add(Convolution2D(num_filters, kernel_size=(kernel_size, kernel_size), padding='same', activation='relu', input_shape=input_shape))\n",
    "            count+=1\n",
    "        else:\n",
    "            model.add(Convolution2D(num_filters, kernel_size=(kernel_size, kernel_size), padding='same', activation='relu'))\n",
    "        model.add(MaxPooling2D(pool_size=(pool_size, pool_size)))\n",
    "    image_shape = model.output_shape\n",
    "    model.add(Flatten())\n",
    "    extra_fc = model.output_shape\n",
    "    create_feedforward_network(model, hidden_sizes)\n",
    "    model.add(Dense(latent_size, activation='relu')) #here add penalty to make similar to c \n",
    "    return image_shape[1:], extra_fc[1:][0]"
   ]
  },
  {
   "cell_type": "code",
   "execution_count": 37,
   "metadata": {},
   "outputs": [],
   "source": [
    "def up_conv(model, conv_sizes, hidden_sizes, latent_size, image_shape, extra_fc):\n",
    "    hidden_sizes = [latent_size] + hidden_sizes + [extra_fc]\n",
    "    create_feedforward_network(model, hidden_sizes)\n",
    "    model.add(Reshape(image_shape))  \n",
    "    count = 0\n",
    "    for size in conv_sizes:\n",
    "        #architecture: conv pool \n",
    "        num_filters, kernel_size, up_size = size\n",
    "        model.add(UpSampling2D(size=(up_size, up_size)))\n",
    "        model.add(Convolution2D(num_filters, kernel_size=(kernel_size, kernel_size), padding='same', activation='relu'))\n",
    "        count+=1\n",
    "    model.add(Convolution2D(1, kernel_size=(3, 3), padding='same', activation='relu'))"
   ]
  },
  {
   "cell_type": "code",
   "execution_count": 38,
   "metadata": {
    "scrolled": false
   },
   "outputs": [],
   "source": [
    "conv_sizes = [[16, 3, 2], [32, 3, 2], [64, 3, 2], [64, 3, 2]]\n",
    "hidden_sizes=[512, 256]\n",
    "latent_size=100\n",
    "model = autoencoder(conv_sizes, [*input_shape, 1], latent_size=latent_size)"
   ]
  },
  {
   "cell_type": "code",
   "execution_count": 39,
   "metadata": {},
   "outputs": [],
   "source": [
    "batch_size=32\n",
    "num_epochs =100"
   ]
  },
  {
   "cell_type": "code",
   "execution_count": 40,
   "metadata": {
    "scrolled": true
   },
   "outputs": [
    {
     "name": "stdout",
     "output_type": "stream",
     "text": [
      "Train on 1152 samples, validate on 289 samples\n",
      "Epoch 1/100\n",
      "1152/1152 [==============================] - 13s 11ms/step - loss: 0.1878 - val_loss: 0.0973\n",
      "Epoch 2/100\n",
      "1152/1152 [==============================] - 12s 10ms/step - loss: 0.0786 - val_loss: 0.0689\n",
      "Epoch 3/100\n",
      "1152/1152 [==============================] - 12s 10ms/step - loss: 0.0507 - val_loss: 0.0362\n",
      "Epoch 4/100\n",
      "1152/1152 [==============================] - 12s 10ms/step - loss: 0.0301 - val_loss: 0.0248\n",
      "Epoch 5/100\n",
      "1152/1152 [==============================] - 12s 10ms/step - loss: 0.0226 - val_loss: 0.0206\n",
      "Epoch 6/100\n",
      "1152/1152 [==============================] - 12s 10ms/step - loss: 0.0199 - val_loss: 0.0197\n",
      "Epoch 7/100\n",
      "1152/1152 [==============================] - 12s 10ms/step - loss: 0.0185 - val_loss: 0.0180\n",
      "Epoch 8/100\n",
      "1152/1152 [==============================] - 12s 10ms/step - loss: 0.0178 - val_loss: 0.0186\n",
      "Epoch 9/100\n",
      "1152/1152 [==============================] - 12s 10ms/step - loss: 0.0176 - val_loss: 0.0168\n",
      "Epoch 10/100\n",
      "1152/1152 [==============================] - 12s 10ms/step - loss: 0.0174 - val_loss: 0.0165\n",
      "Epoch 11/100\n",
      "1152/1152 [==============================] - 12s 10ms/step - loss: 0.0159 - val_loss: 0.0157\n",
      "Epoch 12/100\n",
      "1152/1152 [==============================] - 12s 10ms/step - loss: 0.0154 - val_loss: 0.0154\n",
      "Epoch 13/100\n",
      "1152/1152 [==============================] - 12s 10ms/step - loss: 0.0151 - val_loss: 0.0151\n",
      "Epoch 14/100\n",
      "1152/1152 [==============================] - 11s 10ms/step - loss: 0.0154 - val_loss: 0.0158\n",
      "Epoch 15/100\n",
      "1152/1152 [==============================] - 11s 10ms/step - loss: 0.0151 - val_loss: 0.0158\n",
      "Epoch 16/100\n",
      "1152/1152 [==============================] - 11s 10ms/step - loss: 0.0159 - val_loss: 0.0156\n",
      "Epoch 17/100\n",
      "1152/1152 [==============================] - 11s 10ms/step - loss: 0.0149 - val_loss: 0.0147\n",
      "Epoch 18/100\n",
      "1152/1152 [==============================] - 11s 10ms/step - loss: 0.0142 - val_loss: 0.0145\n",
      "Epoch 19/100\n",
      "1152/1152 [==============================] - 11s 10ms/step - loss: 0.0140 - val_loss: 0.0143\n",
      "Epoch 20/100\n",
      "1152/1152 [==============================] - 11s 10ms/step - loss: 0.0139 - val_loss: 0.0142\n",
      "Epoch 21/100\n",
      "1152/1152 [==============================] - 11s 10ms/step - loss: 0.0135 - val_loss: 0.0140\n",
      "Epoch 22/100\n",
      "1152/1152 [==============================] - 11s 10ms/step - loss: 0.0139 - val_loss: 0.0145\n",
      "Epoch 23/100\n",
      "1152/1152 [==============================] - 11s 10ms/step - loss: 0.0140 - val_loss: 0.0145\n",
      "Epoch 24/100\n",
      "1152/1152 [==============================] - 11s 10ms/step - loss: 0.0134 - val_loss: 0.0137\n",
      "Epoch 25/100\n",
      "1152/1152 [==============================] - 11s 10ms/step - loss: 0.0130 - val_loss: 0.0136\n",
      "Epoch 26/100\n",
      "1152/1152 [==============================] - 11s 10ms/step - loss: 0.0130 - val_loss: 0.0133\n",
      "Epoch 27/100\n",
      "1152/1152 [==============================] - 11s 10ms/step - loss: 0.0135 - val_loss: 0.0139\n",
      "Epoch 28/100\n",
      "1152/1152 [==============================] - 11s 10ms/step - loss: 0.0139 - val_loss: 0.0143\n",
      "Epoch 29/100\n",
      "1152/1152 [==============================] - 11s 10ms/step - loss: 0.0146 - val_loss: 0.0143\n",
      "Epoch 30/100\n",
      "1152/1152 [==============================] - 11s 10ms/step - loss: 0.0189 - val_loss: 0.0152\n",
      "Epoch 31/100\n",
      "1152/1152 [==============================] - 11s 10ms/step - loss: 0.0137 - val_loss: 0.0133\n",
      "Epoch 32/100\n",
      "1152/1152 [==============================] - 11s 10ms/step - loss: 0.0126 - val_loss: 0.0129\n",
      "Epoch 33/100\n",
      "1152/1152 [==============================] - 11s 10ms/step - loss: 0.0122 - val_loss: 0.0127\n",
      "Epoch 34/100\n",
      "1152/1152 [==============================] - 11s 10ms/step - loss: 0.0120 - val_loss: 0.0131\n",
      "Epoch 35/100\n",
      "1152/1152 [==============================] - 11s 10ms/step - loss: 0.0120 - val_loss: 0.0126\n",
      "Epoch 36/100\n",
      "1152/1152 [==============================] - 11s 10ms/step - loss: 0.0118 - val_loss: 0.0125\n",
      "Epoch 37/100\n",
      "1152/1152 [==============================] - 11s 10ms/step - loss: 0.0118 - val_loss: 0.0124\n",
      "Epoch 38/100\n",
      "1152/1152 [==============================] - 11s 10ms/step - loss: 0.0117 - val_loss: 0.0124\n",
      "Epoch 39/100\n",
      "1152/1152 [==============================] - 11s 10ms/step - loss: 0.0115 - val_loss: 0.0122\n",
      "Epoch 40/100\n",
      "1152/1152 [==============================] - 11s 10ms/step - loss: 0.0115 - val_loss: 0.0124\n",
      "Epoch 41/100\n",
      "1152/1152 [==============================] - 11s 10ms/step - loss: 0.0121 - val_loss: 0.0130\n",
      "Epoch 42/100\n",
      "1152/1152 [==============================] - 11s 10ms/step - loss: 0.0119 - val_loss: 0.0126\n",
      "Epoch 43/100\n",
      "1152/1152 [==============================] - 11s 10ms/step - loss: 0.0116 - val_loss: 0.0127\n",
      "Epoch 44/100\n",
      "1152/1152 [==============================] - 11s 10ms/step - loss: 0.0118 - val_loss: 0.0126\n",
      "Epoch 45/100\n",
      "1152/1152 [==============================] - 11s 10ms/step - loss: 0.0120 - val_loss: 0.0125\n",
      "Epoch 46/100\n",
      "1152/1152 [==============================] - 11s 10ms/step - loss: 0.0116 - val_loss: 0.0122\n",
      "Epoch 47/100\n",
      "1152/1152 [==============================] - 11s 10ms/step - loss: 0.0114 - val_loss: 0.0123\n",
      "Epoch 48/100\n",
      "1152/1152 [==============================] - 11s 10ms/step - loss: 0.0113 - val_loss: 0.0125\n",
      "Epoch 49/100\n",
      "1152/1152 [==============================] - 11s 10ms/step - loss: 0.0117 - val_loss: 0.0124\n",
      "Epoch 50/100\n",
      "1152/1152 [==============================] - 11s 10ms/step - loss: 0.0131 - val_loss: 0.0189\n",
      "Epoch 51/100\n",
      "1152/1152 [==============================] - 11s 10ms/step - loss: 0.0141 - val_loss: 0.0130\n",
      "Epoch 52/100\n",
      "1152/1152 [==============================] - 11s 10ms/step - loss: 0.0117 - val_loss: 0.0123\n",
      "Epoch 53/100\n",
      "1152/1152 [==============================] - 11s 10ms/step - loss: 0.0111 - val_loss: 0.0118\n",
      "Epoch 54/100\n",
      "1152/1152 [==============================] - 11s 10ms/step - loss: 0.0110 - val_loss: 0.0119\n",
      "Epoch 55/100\n",
      "1152/1152 [==============================] - 11s 10ms/step - loss: 0.0108 - val_loss: 0.0117\n",
      "Epoch 56/100\n",
      "1152/1152 [==============================] - 11s 10ms/step - loss: 0.0106 - val_loss: 0.0116\n",
      "Epoch 57/100\n",
      "1152/1152 [==============================] - 11s 10ms/step - loss: 0.0106 - val_loss: 0.0116\n",
      "Epoch 58/100\n",
      "1152/1152 [==============================] - 11s 10ms/step - loss: 0.0105 - val_loss: 0.0116\n",
      "Epoch 59/100\n",
      "1152/1152 [==============================] - 11s 10ms/step - loss: 0.0105 - val_loss: 0.0116\n",
      "Epoch 60/100\n",
      "1152/1152 [==============================] - 11s 10ms/step - loss: 0.0109 - val_loss: 0.0119\n",
      "Epoch 61/100\n",
      "1152/1152 [==============================] - 11s 10ms/step - loss: 0.0109 - val_loss: 0.0121\n",
      "Epoch 62/100\n",
      "1152/1152 [==============================] - 11s 10ms/step - loss: 0.0107 - val_loss: 0.0116\n",
      "Epoch 63/100\n",
      "1152/1152 [==============================] - 11s 10ms/step - loss: 0.0107 - val_loss: 0.0117\n",
      "Epoch 64/100\n",
      "1152/1152 [==============================] - 11s 10ms/step - loss: 0.0110 - val_loss: 0.0121\n",
      "Epoch 65/100\n",
      "1152/1152 [==============================] - 11s 10ms/step - loss: 0.0108 - val_loss: 0.0118\n",
      "Epoch 66/100\n",
      "1152/1152 [==============================] - 11s 10ms/step - loss: 0.0106 - val_loss: 0.0115\n",
      "Epoch 67/100\n",
      "1152/1152 [==============================] - 11s 10ms/step - loss: 0.0103 - val_loss: 0.0119\n",
      "Epoch 68/100\n",
      "1152/1152 [==============================] - 11s 10ms/step - loss: 0.0103 - val_loss: 0.0114\n",
      "Epoch 69/100\n",
      "1152/1152 [==============================] - 11s 10ms/step - loss: 0.0104 - val_loss: 0.0121\n",
      "Epoch 70/100\n",
      "1152/1152 [==============================] - 11s 10ms/step - loss: 0.0115 - val_loss: 0.0119\n",
      "Epoch 71/100\n",
      "1152/1152 [==============================] - 11s 10ms/step - loss: 0.0107 - val_loss: 0.0123\n",
      "Epoch 72/100\n",
      "1152/1152 [==============================] - 11s 10ms/step - loss: 0.0110 - val_loss: 0.0123\n",
      "Epoch 73/100\n",
      "1152/1152 [==============================] - 11s 10ms/step - loss: 0.0109 - val_loss: 0.0117\n",
      "Epoch 74/100\n",
      "1152/1152 [==============================] - 11s 10ms/step - loss: 0.0103 - val_loss: 0.0114\n",
      "Epoch 75/100\n",
      "1152/1152 [==============================] - 11s 10ms/step - loss: 0.0101 - val_loss: 0.0114\n",
      "Epoch 76/100\n",
      "1152/1152 [==============================] - 11s 10ms/step - loss: 0.0101 - val_loss: 0.0116\n",
      "Epoch 77/100\n",
      "1152/1152 [==============================] - 11s 10ms/step - loss: 0.0105 - val_loss: 0.0117\n"
     ]
    },
    {
     "name": "stdout",
     "output_type": "stream",
     "text": [
      "Epoch 78/100\n",
      "1152/1152 [==============================] - 11s 10ms/step - loss: 0.0102 - val_loss: 0.0114\n",
      "Epoch 79/100\n",
      "1152/1152 [==============================] - 11s 10ms/step - loss: 0.0099 - val_loss: 0.0112\n",
      "Epoch 80/100\n",
      "1152/1152 [==============================] - 11s 10ms/step - loss: 0.0102 - val_loss: 0.0115\n",
      "Epoch 81/100\n",
      "1152/1152 [==============================] - 11s 10ms/step - loss: 0.0103 - val_loss: 0.0117\n",
      "Epoch 82/100\n",
      "1152/1152 [==============================] - 11s 10ms/step - loss: 0.0104 - val_loss: 0.0116\n",
      "Epoch 83/100\n",
      "1152/1152 [==============================] - 11s 10ms/step - loss: 0.0104 - val_loss: 0.0116\n",
      "Epoch 84/100\n",
      "1152/1152 [==============================] - 11s 10ms/step - loss: 0.0100 - val_loss: 0.0113\n",
      "Epoch 85/100\n",
      "1152/1152 [==============================] - 11s 10ms/step - loss: 0.0099 - val_loss: 0.0116\n",
      "Epoch 86/100\n",
      "1152/1152 [==============================] - 11s 10ms/step - loss: 0.0109 - val_loss: 0.0119\n",
      "Epoch 87/100\n",
      "1152/1152 [==============================] - 11s 10ms/step - loss: 0.0101 - val_loss: 0.0111\n",
      "Epoch 88/100\n",
      "1152/1152 [==============================] - 11s 10ms/step - loss: 0.0097 - val_loss: 0.0112\n",
      "Epoch 89/100\n",
      "1152/1152 [==============================] - 11s 10ms/step - loss: 0.0098 - val_loss: 0.0113\n",
      "Epoch 90/100\n",
      "1152/1152 [==============================] - 11s 10ms/step - loss: 0.0098 - val_loss: 0.0111\n",
      "Epoch 91/100\n",
      "1152/1152 [==============================] - 11s 10ms/step - loss: 0.0097 - val_loss: 0.0111\n",
      "Epoch 92/100\n",
      "1152/1152 [==============================] - 11s 10ms/step - loss: 0.0096 - val_loss: 0.0111\n",
      "Epoch 93/100\n",
      "1152/1152 [==============================] - 11s 10ms/step - loss: 0.0095 - val_loss: 0.0110\n",
      "Epoch 94/100\n",
      "1152/1152 [==============================] - 11s 10ms/step - loss: 0.0103 - val_loss: 0.0115\n",
      "Epoch 95/100\n",
      "1152/1152 [==============================] - 11s 10ms/step - loss: 0.0103 - val_loss: 0.0113\n",
      "Epoch 96/100\n",
      "1152/1152 [==============================] - 11s 10ms/step - loss: 0.0103 - val_loss: 0.0112\n",
      "Epoch 97/100\n",
      "1152/1152 [==============================] - 11s 10ms/step - loss: 0.0101 - val_loss: 0.0114\n",
      "Epoch 98/100\n",
      "1152/1152 [==============================] - 11s 10ms/step - loss: 0.0101 - val_loss: 0.0113\n",
      "Epoch 99/100\n",
      "1152/1152 [==============================] - 11s 10ms/step - loss: 0.0096 - val_loss: 0.0110\n",
      "Epoch 100/100\n",
      "1152/1152 [==============================] - 11s 10ms/step - loss: 0.0094 - val_loss: 0.0111\n"
     ]
    },
    {
     "data": {
      "text/plain": [
       "<keras.callbacks.History at 0x7f8bfb07a278>"
      ]
     },
     "execution_count": 40,
     "metadata": {},
     "output_type": "execute_result"
    }
   ],
   "source": [
    "model.fit(Xtrain_conv, Xtrain_conv, batch_size=batch_size, shuffle=True, steps_per_epoch=None, epochs=num_epochs, validation_split=.2)"
   ]
  },
  {
   "cell_type": "code",
   "execution_count": 41,
   "metadata": {},
   "outputs": [
    {
     "name": "stdout",
     "output_type": "stream",
     "text": [
      "711/711 [==============================] - 2s 3ms/step\n"
     ]
    },
    {
     "data": {
      "text/plain": [
       "0.012406530529365425"
      ]
     },
     "execution_count": 41,
     "metadata": {},
     "output_type": "execute_result"
    }
   ],
   "source": [
    "model.evaluate(Xtest_conv, Xtest_conv)"
   ]
  },
  {
   "cell_type": "code",
   "execution_count": 42,
   "metadata": {
    "scrolled": true
   },
   "outputs": [
    {
     "data": {
      "image/png": "[encoded data removed]",
      "text/plain": [
       "<matplotlib.figure.Figure at 0x7f8bfb1680b8>"
      ]
     },
     "metadata": {},
     "output_type": "display_data"
    },
    {
     "data": {
      "image/png": "[encoded data removed]",
      "text/plain": [
       "<matplotlib.figure.Figure at 0x7f8b78106198>"
      ]
     },
     "metadata": {},
     "output_type": "display_data"
    },
    {
     "data": {
      "image/png": "[encoded data removed]",
      "text/plain": [
       "<matplotlib.figure.Figure at 0x7f8b780a9908>"
      ]
     },
     "metadata": {},
     "output_type": "display_data"
    },
    {
     "data": {
      "image/png": "[encoded data removed]",
      "text/plain": [
       "<matplotlib.figure.Figure at 0x7f8b7807d940>"
      ]
     },
     "metadata": {},
     "output_type": "display_data"
    },
    {
     "data": {
      "image/png": "[encoded data removed]",
      "text/plain": [
       "<matplotlib.figure.Figure at 0x7f8b78042780>"
      ]
     },
     "metadata": {},
     "output_type": "display_data"
    }
   ],
   "source": [
    "# convert auto encoder output to fractal\n",
    "for example in range(5):\n",
    "    test_img = Xtrain_conv[example]\n",
    "    test_output = model.predict(np.reshape(test_img, (1, *test_img.shape)))\n",
    "    test_output = np.where(test_output>=.5, 1, 0)[0]\n",
    "    test_output = np.reshape(test_output, (256, 384))\n",
    "    plt.figure()\n",
    "    plt.imshow(test_output)"
   ]
  },
  {
   "cell_type": "code",
   "execution_count": 43,
   "metadata": {
    "scrolled": true
   },
   "outputs": [
    {
     "data": {
      "image/png": "[encoded data removed]",
      "text/plain": [
       "<matplotlib.figure.Figure at 0x7f8b78c62668>"
      ]
     },
     "metadata": {},
     "output_type": "display_data"
    },
    {
     "data": {
      "image/png": "[encoded data removed]",
      "text/plain": [
       "<matplotlib.figure.Figure at 0x7f8b6fb99cf8>"
      ]
     },
     "metadata": {},
     "output_type": "display_data"
    },
    {
     "data": {
      "image/png": "[encoded data removed]",
      "text/plain": [
       "<matplotlib.figure.Figure at 0x7f8b6fb721d0>"
      ]
     },
     "metadata": {},
     "output_type": "display_data"
    },
    {
     "data": {
      "image/png": "[encoded data removed]",
      "text/plain": [
       "<matplotlib.figure.Figure at 0x7f8b6fb366a0>"
      ]
     },
     "metadata": {},
     "output_type": "display_data"
    },
    {
     "data": {
      "image/png": "[encoded data removed]",
      "text/plain": [
       "<matplotlib.figure.Figure at 0x7f8b6fa87978>"
      ]
     },
     "metadata": {},
     "output_type": "display_data"
    }
   ],
   "source": [
    "for example in range(5):\n",
    "    test_output = np.reshape(Xtrain_conv[example], (256, 384))\n",
    "    plt.figure()\n",
    "    plt.imshow(test_output)"
   ]
  },
  {
   "cell_type": "code",
   "execution_count": 44,
   "metadata": {},
   "outputs": [],
   "source": [
    "#visualize encoder results/plots\n",
    "# add penalty to latent layer\n",
    "# deeper nets :D\n",
    "#add stuff to paper "
   ]
  },
  {
   "cell_type": "code",
   "execution_count": 45,
   "metadata": {},
   "outputs": [],
   "source": [
    "model.save('autoencoder_latent_size100.h5')"
   ]
  },
  {
   "cell_type": "code",
   "execution_count": 46,
   "metadata": {},
   "outputs": [],
   "source": [
    "model = load_model('autoencoder_latent_size100.h5')"
   ]
  },
  {
   "cell_type": "code",
   "execution_count": null,
   "metadata": {},
   "outputs": [],
   "source": []
  }
 ],
 "metadata": {
  "colab": {
   "collapsed_sections": [],
   "default_view": {},
   "name": "NeuralNets.ipynb",
   "provenance": [],
   "version": "0.3.2",
   "views": {}
  },
  "kernelspec": {
   "display_name": "Python 3",
   "language": "python",
   "name": "python3"
  },
  "language_info": {
   "codemirror_mode": {
    "name": "ipython",
    "version": 3
   },
   "file_extension": ".py",
   "mimetype": "text/x-python",
   "name": "python",
   "nbconvert_exporter": "python",
   "pygments_lexer": "ipython3",
   "version": "3.5.2"
  }
 },
 "nbformat": 4,
 "nbformat_minor": 1
}
